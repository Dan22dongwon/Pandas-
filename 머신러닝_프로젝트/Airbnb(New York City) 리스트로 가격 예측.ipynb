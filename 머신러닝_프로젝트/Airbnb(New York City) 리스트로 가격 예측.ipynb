{
  "nbformat": 4,
  "nbformat_minor": 0,
  "metadata": {
    "colab": {
      "private_outputs": true,
      "provenance": [],
      "authorship_tag": "ABX9TyPx8Xq6gH3GoZSss0wgoxOI",
      "include_colab_link": true
    },
    "kernelspec": {
      "name": "python3",
      "display_name": "Python 3"
    },
    "language_info": {
      "name": "python"
    }
  },
  "cells": [
    {
      "cell_type": "markdown",
      "metadata": {
        "id": "view-in-github",
        "colab_type": "text"
      },
      "source": [
        "<a href=\"https://colab.research.google.com/github/Dan22dongwon/Pandas-sci-kit-learn/blob/main/%EB%A8%B8%EC%8B%A0%EB%9F%AC%EB%8B%9D_%ED%94%84%EB%A1%9C%EC%A0%9D%ED%8A%B8.ipynb\" target=\"_parent\"><img src=\"https://colab.research.google.com/assets/colab-badge.svg\" alt=\"Open In Colab\"/></a>"
      ]
    },
    {
      "cell_type": "markdown",
      "source": [
        "# 프로젝트 주제\n",
        " -  Airbnb(New York City) 리스트로 가격을 함께 예측해보겠습니다."
      ],
      "metadata": {
        "id": "bayFVtz22R47"
      }
    },
    {
      "cell_type": "markdown",
      "source": [
        "# 머신러닝 프로젝트\n",
        "- Airbnb(New York City)\n",
        " - 미국 NYC Airbnb 목록(2019)\n",
        " - 데이터 출처 : https://www.kaggle.com/datasets/dgomonov/new-york-city-airbnb-open-data   / License CC0: Public Domain\n",
        " - 프로젝트 목적 : 가격 예측 (price)\n",
        " - 제공데이터(3개) : train.csv, test.csv, y_test(최종 채점용)\n",
        " - 평가 방식: MSE\n"
      ],
      "metadata": {
        "id": "RIcd7ltc8hcZ"
      }
    },
    {
      "cell_type": "code",
      "execution_count": null,
      "metadata": {
        "id": "7ZRczL-T2Nnq"
      },
      "outputs": [],
      "source": [
        "# 라이브러리 \n",
        "import pandas as pd\n",
        "import numpy as np"
      ]
    },
    {
      "cell_type": "code",
      "source": [
        "# 데이터 불러오기\n",
        "train = pd.read_csv('train.csv')\n",
        "test = pd.read_csv('test.csv')"
      ],
      "metadata": {
        "id": "Y7CWfYj62i2C"
      },
      "execution_count": null,
      "outputs": []
    },
    {
      "cell_type": "markdown",
      "source": [
        "# EDA"
      ],
      "metadata": {
        "id": "VNBnnW-kAptQ"
      }
    },
    {
      "cell_type": "code",
      "source": [
        "# 데이터 크기\n",
        "train.shape, test.shape"
      ],
      "metadata": {
        "id": "6RVI0fqf3-ni"
      },
      "execution_count": null,
      "outputs": []
    },
    {
      "cell_type": "code",
      "source": [
        "# 데이터 샘플  # display 로 쓰면 더 이쁘게 표로 확인 가능\n",
        "display(train.head(2))\n",
        "display(test.head(2))"
      ],
      "metadata": {
        "id": "bMJGlm902lat"
      },
      "execution_count": null,
      "outputs": []
    },
    {
      "cell_type": "code",
      "source": [
        "# 데이터 타입\n",
        "train.info()"
      ],
      "metadata": {
        "id": "I-brpSiR43hh"
      },
      "execution_count": null,
      "outputs": []
    },
    {
      "cell_type": "code",
      "source": [
        "# 결측치(train)\n",
        "train.isnull().sum()"
      ],
      "metadata": {
        "id": "NiIHV29z46BM"
      },
      "execution_count": null,
      "outputs": []
    },
    {
      "cell_type": "code",
      "source": [
        "# 결측치(test)\n",
        "test.isnull().sum()"
      ],
      "metadata": {
        "id": "kPqF8ve048sC"
      },
      "execution_count": null,
      "outputs": []
    },
    {
      "cell_type": "code",
      "source": [
        "# target(hist)\n",
        "train['price'].hist(bins=100)"
      ],
      "metadata": {
        "id": "qROE4Pn95CDE"
      },
      "execution_count": null,
      "outputs": []
    },
    {
      "cell_type": "code",
      "source": [
        "train['price'] = np.log(train.price+1)\n",
        "train['price'].hist(bins=100)"
      ],
      "metadata": {
        "id": "pF_cNQtDZZTU"
      },
      "execution_count": null,
      "outputs": []
    },
    {
      "cell_type": "code",
      "source": [
        "# target(describe)\n",
        "train['price'].describe()"
      ],
      "metadata": {
        "id": "wHrhokLV5Exj"
      },
      "execution_count": null,
      "outputs": []
    },
    {
      "cell_type": "code",
      "source": [
        "# 피처(host_id)\n",
        "train['host_id'].value_counts()"
      ],
      "metadata": {
        "id": "1eLQQ5f55KwU"
      },
      "execution_count": null,
      "outputs": []
    },
    {
      "cell_type": "markdown",
      "source": [
        "# 데이터 전처리"
      ],
      "metadata": {
        "id": "Pfck3oeWBXpY"
      }
    },
    {
      "cell_type": "code",
      "source": [
        "# 결측치 컬럼 삭제(last_review)\n",
        "train = train.drop('last_review', axis=1)\n",
        "test = test.drop('last_review', axis=1)"
      ],
      "metadata": {
        "id": "4hgIdvD8Arso"
      },
      "execution_count": null,
      "outputs": []
    },
    {
      "cell_type": "code",
      "source": [
        "# 결측치 채우기\n",
        "train['reviews_per_month']=train['reviews_per_month'].fillna(0)\n",
        "test['reviews_per_month']=test['reviews_per_month'].fillna(0)"
      ],
      "metadata": {
        "id": "aPnf1J3QBkNz"
      },
      "execution_count": null,
      "outputs": []
    },
    {
      "cell_type": "code",
      "source": [
        "# 결측치 확인\n",
        "train.isnull().sum()"
      ],
      "metadata": {
        "id": "lyAzDG1IBkLK"
      },
      "execution_count": null,
      "outputs": []
    },
    {
      "cell_type": "code",
      "source": [
        "# 가격 값 복사\n",
        "target = train['price']\n",
        "train = train.drop('price',axis=1)"
      ],
      "metadata": {
        "id": "K_hNAiP4BkIv"
      },
      "execution_count": null,
      "outputs": []
    },
    {
      "cell_type": "code",
      "source": [
        "# 수치형 피처 선택\n",
        "cols = [\n",
        "    'host_id',\n",
        "    'latitude',\n",
        "    'longitude',\n",
        "    'minimum_nights', \n",
        "    'number_of_reviews',\n",
        "    'reviews_per_month',\n",
        "    'calculated_host_listings_count',\n",
        "    'availability_365'\n",
        "    ]\n",
        "train = train[cols]\n",
        "test = test[cols]"
      ],
      "metadata": {
        "id": "A94fcLKNBpdv"
      },
      "execution_count": null,
      "outputs": []
    },
    {
      "cell_type": "markdown",
      "source": [
        "#  검증 데이터 분리"
      ],
      "metadata": {
        "id": "6xi--CpkE9tp"
      }
    },
    {
      "cell_type": "code",
      "source": [
        "# 검증 데이터 분리\n",
        "from sklearn.model_selection import train_test_split\n",
        "\n",
        "X_train, X_val, y_train, y_val = train_test_split(train, target, test_size=0.2, random_state=2022)\n",
        "X_train.shape, X_val.shape, y_train.shape, y_val.shape"
      ],
      "metadata": {
        "id": "oJhVf5WzBs2N"
      },
      "execution_count": null,
      "outputs": []
    },
    {
      "cell_type": "markdown",
      "source": [
        "머신러닝"
      ],
      "metadata": {
        "id": "d9iO3TRfFJvZ"
      }
    },
    {
      "cell_type": "code",
      "source": [
        "# 머신러닝(회귀)\n",
        "from sklearn.linear_model import LinearRegression\n",
        "from sklearn.metrics import mean_squared_error\n",
        "\n",
        "model = LinearRegression(copy_X= True, fit_intercept = True)\n",
        "model.fit(X_train, y_train)\n",
        "pred = model.predict(X_val)\n",
        "mean_squared_error(y_val, pred)"
      ],
      "metadata": {
        "id": "1B99E9CcBv6B"
      },
      "execution_count": null,
      "outputs": []
    },
    {
      "cell_type": "code",
      "source": [
        "# 릿지 회귀\n",
        "from sklearn.linear_model import Ridge\n",
        "\n",
        "model = Ridge(alpha = 0.01)\n",
        "model.fit(X_train, y_train)\n",
        "pred = model.predict(X_val)\n",
        "mean_squared_error(y_val, pred)"
      ],
      "metadata": {
        "id": "L_foN8nTBxxD"
      },
      "execution_count": null,
      "outputs": []
    },
    {
      "cell_type": "code",
      "source": [
        "# 라쏘 회귀\n",
        "from sklearn.linear_model import Lasso\n",
        "\n",
        "model = Lasso(alpha = 0.001)\n",
        "model.fit(X_train, y_train)\n",
        "pred = model.predict(X_val)\n",
        "mean_squared_error(y_val, pred)"
      ],
      "metadata": {
        "id": "9wq86pgzBz0L"
      },
      "execution_count": null,
      "outputs": []
    },
    {
      "cell_type": "code",
      "source": [
        "# 엘라스틱넷 회귀\n",
        "from sklearn.linear_model import ElasticNet\n",
        "\n",
        "model = ElasticNet(alpha = 0.01)\n",
        "model.fit(X_train, y_train)\n",
        "pred = model.predict(X_val)\n",
        "mean_squared_error(y_val, pred)"
      ],
      "metadata": {
        "id": "h5VQoY8MB1J9"
      },
      "execution_count": null,
      "outputs": []
    },
    {
      "cell_type": "code",
      "source": [
        "# 랜덤포레스트\n",
        "from sklearn.ensemble import RandomForestRegressor\n",
        "\n",
        "model = RandomForestRegressor(random_state=2022)\n",
        "model.fit(X_train, y_train)\n",
        "pred = model.predict(X_val)\n",
        "mean_squared_error(y_val, pred)"
      ],
      "metadata": {
        "id": "pTdscnv4B3XU"
      },
      "execution_count": null,
      "outputs": []
    },
    {
      "cell_type": "code",
      "source": [
        "# Xgboost\n",
        "from xgboost import XGBRegressor\n",
        "\n",
        "model = XGBRegressor(random_state=2022)\n",
        "model.fit(X_train, y_train)\n",
        "pred = model.predict(X_val)\n",
        "mean_squared_error(y_val, pred)"
      ],
      "metadata": {
        "id": "BnaCL2aVB5Dv"
      },
      "execution_count": null,
      "outputs": []
    },
    {
      "cell_type": "markdown",
      "source": [
        "# 채점 "
      ],
      "metadata": {
        "id": "vVYFDYDNJrT6"
      }
    },
    {
      "cell_type": "code",
      "source": [
        "# test 데이터 예측 및 평가\n",
        "y_test = pd.read_csv('y_test.csv')\n",
        "y_test['price'] = np.log(y_test.price + 1)\n",
        "\n",
        "# Xgboost\n",
        "pred = model.predict(test)\n",
        "mean_squared_error(y_test, pred)"
      ],
      "metadata": {
        "id": "ING6M6kmB7XH"
      },
      "execution_count": null,
      "outputs": []
    },
    {
      "cell_type": "markdown",
      "source": [
        "#과제 내용"
      ],
      "metadata": {
        "id": "aD_EwDKEKgnV"
      }
    },
    {
      "cell_type": "code",
      "source": [
        "# baseline score(mse 51xxx) 보다 점수가 낮게 나오도록 도전해 보세요! \n",
        "print(\"나의 점수는 (MSE 0.4610389295083336)입니다.\")"
      ],
      "metadata": {
        "id": "ZyvK1DAtB87X"
      },
      "execution_count": null,
      "outputs": []
    },
    {
      "cell_type": "markdown",
      "source": [
        "# 성능향상 Tip"
      ],
      "metadata": {
        "id": "Hj9v3y_zKaTo"
      }
    },
    {
      "cell_type": "code",
      "source": [
        "# 엘라스틱넷 회귀\n",
        "from sklearn.linear_model import ElasticNet\n",
        "\n",
        "model = ElasticNet(alpha=0.1, l1_ratio=0.5)\n",
        "model.fit(X_train, y_train)\n",
        "pred = model.predict(X_val)\n",
        "mean_squared_error(y_val, pred)\n",
        "\n",
        "# test 데이터 예측 및 평가\n",
        "y_test = pd.read_csv('y_test.csv')"
      ],
      "metadata": {
        "id": "sEXZSa3uJCpk"
      },
      "execution_count": null,
      "outputs": []
    },
    {
      "cell_type": "markdown",
      "source": [
        "> 캐글에 서 보고 배운것 정리"
      ],
      "metadata": {
        "id": "_pOIUKm3WFwl"
      }
    },
    {
      "cell_type": "code",
      "source": [
        "# 사용할 라이브러리\n",
        "\n",
        "import pandas as pd\n",
        "import numpy as np\n",
        "import matplotlib.pyplot as plt\n",
        "import seaborn as sns\n",
        "\n",
        "from scipy.stats import norm\n",
        "from scipy import stats\n",
        "from sklearn import preprocessing\n",
        "from sklearn.preprocessing import LabelEncoder\n",
        "from sklearn.preprocessing import StandardScaler\n",
        "\n",
        "from sklearn.model_selection import train_test_split\n",
        "from sklearn.model_selection import KFold\n",
        "from sklearn.model_selection import GridSearchCV\n",
        "from sklearn.ensemble import ExtraTreesClassifier\n",
        "\n",
        "from sklearn.linear_model import LinearRegression\n",
        "from sklearn.preprocessing import PolynomialFeatures\n",
        "from sklearn.linear_model import Ridge\n",
        "from sklearn.linear_model import Lasso\n",
        "from sklearn.linear_model import ElasticNet\n",
        "\n",
        "from sklearn import metrics\n",
        "from sklearn.metrics import mean_squared_error\n",
        "from sklearn.metrics import mean_absolute_error\n",
        "from math import sqrt\n",
        "from sklearn.metrics import r2_score"
      ],
      "metadata": {
        "id": "OxMyU3CdVMfD"
      },
      "execution_count": null,
      "outputs": []
    },
    {
      "cell_type": "code",
      "source": [
        "# 데이터 불러오기\n",
        "train = pd.read_csv('train.csv')\n",
        "test = pd.read_csv('test.csv')"
      ],
      "metadata": {
        "id": "MAePmWz6VQbt"
      },
      "execution_count": null,
      "outputs": []
    },
    {
      "cell_type": "code",
      "source": [
        "train['price'].hist(bins=100)"
      ],
      "metadata": {
        "id": "pVscTS1AWD2S"
      },
      "execution_count": null,
      "outputs": []
    },
    {
      "cell_type": "code",
      "source": [
        "train['price_log'] = np.log(train.price+1)"
      ],
      "metadata": {
        "id": "DZaeGf9_Ws1L"
      },
      "execution_count": null,
      "outputs": []
    },
    {
      "cell_type": "code",
      "source": [
        "plt.figure(figsize=(12,10))\n",
        "sns.distplot(train['price_log'], fit=norm)\n",
        "plt.title(\"Log-Price Distribution Plot\",size=15, weight='bold')"
      ],
      "metadata": {
        "id": "bYzgxm5wXCyQ"
      },
      "execution_count": null,
      "outputs": []
    },
    {
      "cell_type": "code",
      "source": [
        "plt.figure(figsize=(7,7))\n",
        "stats.probplot(train['price_log'], plot=plt)\n",
        "plt.show()"
      ],
      "metadata": {
        "id": "H-cKnxebXPGE"
      },
      "execution_count": null,
      "outputs": []
    },
    {
      "cell_type": "code",
      "source": [
        "model = train.drop(columns=['name','id' ,'host_id','host_name', \n",
        "                                   'last_review','price'])\n",
        "train.isnull().sum()"
      ],
      "metadata": {
        "id": "pcE8rCFKXYHy"
      },
      "execution_count": null,
      "outputs": []
    },
    {
      "cell_type": "code",
      "source": [
        "mean = model['reviews_per_month'].mean()\n",
        "model['reviews_per_month'].fillna(mean, inplace=True)\n",
        "model.isnull().sum()"
      ],
      "metadata": {
        "id": "B-72icqXXfdq"
      },
      "execution_count": null,
      "outputs": []
    },
    {
      "cell_type": "code",
      "source": [
        "plt.figure(figsize=(15,12))\n",
        "palette = sns.diverging_palette(20, 220, n=256)\n",
        "corr=model.corr(method='pearson')\n",
        "sns.heatmap(corr, annot=True, fmt=\".2f\", cmap=palette, vmax=.3, center=0,\n",
        "            square=True, linewidths=.5, cbar_kws={\"shrink\": .5}).set(ylim=(11, 0))\n",
        "plt.title(\"Correlation Matrix\",size=15, weight='bold')"
      ],
      "metadata": {
        "id": "xTy1P1VAXxKs"
      },
      "execution_count": null,
      "outputs": []
    },
    {
      "cell_type": "code",
      "source": [
        "### Ridge Regression ###\n",
        "\n",
        "def ridge_reg(input_x, input_y, cv=5):\n",
        "    ## Defining parameters\n",
        "    model_Ridge= Ridge()\n",
        "\n",
        "    # prepare a range of alpha values to test\n",
        "    alphas = np.array([1,0.1,0.01,0.001,0.0001,0])\n",
        "    normalizes= ([True,False])\n",
        "\n",
        "    ## Building Grid Search algorithm with cross-validation and Mean Squared Error score.\n",
        "\n",
        "    grid_search_Ridge = GridSearchCV(estimator=model_Ridge,  \n",
        "                         param_grid=(dict(alpha=alphas, normalize= normalizes)),\n",
        "                         scoring='neg_mean_squared_error',\n",
        "                         cv=cv,\n",
        "                         n_jobs=-1)\n",
        "\n",
        "    ## Lastly, finding the best parameters.\n",
        "\n",
        "    grid_search_Ridge.fit(input_x, input_y)\n",
        "    best_parameters_Ridge = grid_search_Ridge.best_params_  \n",
        "    best_score_Ridge = grid_search_Ridge.best_score_ \n",
        "    print(best_parameters_Ridge)\n",
        "    print(best_score_Ridge)\n",
        "    \n",
        "# ridge_reg(nyc_model_x, nyc_model_y)"
      ],
      "metadata": {
        "id": "jZ4LrmpYX4K-"
      },
      "execution_count": null,
      "outputs": []
    },
    {
      "cell_type": "code",
      "source": [
        "### Lasso Regression ###\n",
        "\n",
        "def lasso_reg(input_x, input_y, cv=5):\n",
        "    ## Defining parameters\n",
        "    model_Lasso= Lasso()\n",
        "\n",
        "    # prepare a range of alpha values to test\n",
        "    alphas = np.array([1,0.1,0.01,0.001,0.0001,0])\n",
        "    normalizes= ([True,False])\n",
        "\n",
        "    ## Building Grid Search algorithm with cross-validation and Mean Squared Error score.\n",
        "\n",
        "    grid_search_lasso = GridSearchCV(estimator=model_Lasso,  \n",
        "                         param_grid=(dict(alpha=alphas, normalize= normalizes)),\n",
        "                         scoring='neg_mean_squared_error',\n",
        "                         cv=cv,\n",
        "                         n_jobs=-1)\n",
        "\n",
        "    ## Lastly, finding the best parameters.\n",
        "\n",
        "    grid_search_lasso.fit(input_x, input_y)\n",
        "    best_parameters_lasso = grid_search_lasso.best_params_  \n",
        "    best_score_lasso = grid_search_lasso.best_score_ \n",
        "    print(best_parameters_lasso)\n",
        "    print(best_score_lasso)\n",
        "\n",
        "# lasso_reg(nyc_model_x, nyc_model_y)"
      ],
      "metadata": {
        "id": "1zrSgRkkYKGT"
      },
      "execution_count": null,
      "outputs": []
    },
    {
      "cell_type": "code",
      "source": [
        "### ElasticNet Regression ###\n",
        "\n",
        "def elastic_reg(input_x, input_y,cv=5):\n",
        "    ## Defining parameters\n",
        "    model_grid_Elastic= ElasticNet()\n",
        "\n",
        "    # prepare a range of alpha values to test\n",
        "    alphas = np.array([1,0.1,0.01,0.001,0.0001,0])\n",
        "    normalizes= ([True,False])\n",
        "\n",
        "    ## Building Grid Search algorithm with cross-validation and Mean Squared Error score.\n",
        "\n",
        "    grid_search_elastic = GridSearchCV(estimator=model_grid_Elastic,  \n",
        "                         param_grid=(dict(alpha=alphas, normalize= normalizes)),\n",
        "                         scoring='neg_mean_squared_error',\n",
        "                         cv=cv,\n",
        "                         n_jobs=-1)\n",
        "\n",
        "    ## Lastly, finding the best parameters.\n",
        "\n",
        "    grid_search_elastic.fit(input_x, input_y)\n",
        "    best_parameters_elastic = grid_search_elastic.best_params_  \n",
        "    best_score_elastic = grid_search_elastic.best_score_ \n",
        "    print(best_parameters_elastic)\n",
        "    print(best_score_elastic)\n",
        "\n",
        "# elastic_reg(nyc_model_x, nyc_model_y)"
      ],
      "metadata": {
        "id": "wczgIK6QYMdd"
      },
      "execution_count": null,
      "outputs": []
    },
    {
      "cell_type": "code",
      "source": [
        "#Ridge Model\n",
        "model1 = Ridge(alpha = 0.01, normalize = True)\n",
        "model1.fit(X_train, y_train)             \n",
        "pred1 = model.predict(X_test) \n",
        "\n",
        "#Lasso Model\n",
        "model2 = Lasso(alpha = 0.001, normalize =False)\n",
        "model2.fit(X_train, y_train)\n",
        "pred2 = model.predict(X_test) \n",
        "\n",
        "#ElasticNet Model\n",
        "model3 = ElasticNet(alpha = 0.01, normalize=False)\n",
        "model3.fit(X_train, y_train) \n",
        "pred3= model_enet.predict(X_test)"
      ],
      "metadata": {
        "id": "uMWUfoVtYTsQ"
      },
      "execution_count": null,
      "outputs": []
    },
    {
      "cell_type": "markdown",
      "source": [
        "> # 부록 1 : 이미지 데이터 만들고 분류하기"
      ],
      "metadata": {
        "id": "sruCVzGppKNL"
      }
    },
    {
      "cell_type": "code",
      "source": [
        "# 라이브러리\n",
        "import numpy as np\n",
        "import tensorflow as tf\n",
        "from tensorflow.keras.preprocessing.image import ImageDataGenerator\n",
        "import matplotlib.pylab as plt"
      ],
      "metadata": {
        "id": "CVhhfJxupPSR"
      },
      "execution_count": null,
      "outputs": []
    },
    {
      "cell_type": "code",
      "source": [
        "# 압축 해제 \n",
        "import shutil\n",
        "shutil.unpack_archive(\"data.zip\", \"\")"
      ],
      "metadata": {
        "id": "Ud2LqPm7prV4"
      },
      "execution_count": null,
      "outputs": []
    },
    {
      "cell_type": "code",
      "source": [
        "# 경로\n",
        "train_path = \"train/\"\n",
        "valid_path = \"validation/\"\n",
        "print(train_path)\n",
        "print(valid_path)"
      ],
      "metadata": {
        "id": "7cJzlHmgpxtz"
      },
      "execution_count": null,
      "outputs": []
    },
    {
      "cell_type": "code",
      "source": [
        " #이미지 데이터 제너레이터\n",
        "image_gen = ImageDataGenerator(rescale=(1/255.))\n",
        "image_gen\n"
      ],
      "metadata": {
        "id": "vUQLG27GpzOB"
      },
      "execution_count": null,
      "outputs": []
    },
    {
      "cell_type": "code",
      "source": [
        "# flow_from_directory 함수로 폴더에서 이미지 가져옴\n",
        "train_gen = image_gen.flow_from_directory(train_path,\n",
        "                                          batch_size=32,\n",
        "                                          target_size=(96,96),\n",
        "                                          classes=['good','bad'],\n",
        "                                          class_mode = 'binary',\n",
        "                                          seed=0)\n",
        "valid_gen = image_gen.flow_from_directory(valid_path,\n",
        "                                          batch_size=32,\n",
        "                                          target_size=(96,96),\n",
        "                                          classes=['good','bad'],\n",
        "                                          class_mode = 'binary',\n",
        "                                          seed=0)"
      ],
      "metadata": {
        "id": "wS1dS5zaqIsS"
      },
      "execution_count": null,
      "outputs": []
    },
    {
      "cell_type": "code",
      "source": [
        "# 이미지 데이터 제너레이터\n",
        "# [[YOUR CODE]]\n",
        "image_gen = ImageDataGenerator(rescale=(1/255.))\n",
        "image_gen"
      ],
      "metadata": {
        "id": "64QMnxZ_ri9Y"
      },
      "execution_count": null,
      "outputs": []
    },
    {
      "cell_type": "code",
      "source": [
        "# 샘플 이미지 출력\n",
        "class_labels = ['good','bad']\n",
        "batch = next(train_gen)\n",
        "images, labels = batch[0], batch[1]\n",
        "\n",
        "plt.figure(figsize=(12, 5))\n",
        "for i in range(10):\n",
        "    ax = plt.subplot(2, 5, i + 1)\n",
        "    plt.imshow(images[i])\n",
        "    plt.title(class_labels[labels[i].astype(int)])\n",
        "    plt.axis(\"off\")\n",
        "plt.tight_layout()\n",
        "plt.show()"
      ],
      "metadata": {
        "id": "sB_o9N7drsej"
      },
      "execution_count": null,
      "outputs": []
    },
    {
      "cell_type": "code",
      "source": [
        "# 모델\n",
        "from tensorflow.keras.layers import Flatten, Dense, Dropout, Conv2D, MaxPooling2D  \n",
        "from tensorflow.keras.models import Sequential\n",
        "\n",
        "model = Sequential([\n",
        "    tf.keras.layers.BatchNormalization(),  \n",
        "    Conv2D(16, (3,3), activation='relu'),\n",
        "    MaxPooling2D((2,2)),  \n",
        "    Flatten(),\n",
        "    Dense(64, activation='relu'), \n",
        "    Dropout(0.5),  \n",
        "    Dense(1, activation='sigmoid')  \n",
        "])"
      ],
      "metadata": {
        "id": "8HZ0CnaEtYs0"
      },
      "execution_count": null,
      "outputs": []
    },
    {
      "cell_type": "code",
      "source": [
        "# 모델 컴파일 \n",
        "model.compile(optimizer='adam',\n",
        "              loss='binary_crossentropy',\n",
        "              metrics=['accuracy'])"
      ],
      "metadata": {
        "id": "CNtrIr7XtzYg"
      },
      "execution_count": null,
      "outputs": []
    },
    {
      "cell_type": "code",
      "source": [
        "# 모델 훈련\n",
        "history = model.fit(train_gen, validation_data=valid_gen,epochs=3)"
      ],
      "metadata": {
        "id": "HpBz8Qlntzn-"
      },
      "execution_count": null,
      "outputs": []
    },
    {
      "cell_type": "code",
      "source": [
        "# 학습 정확도\n",
        "plt.plot(history.history['loss'], label='train')\n",
        "plt.plot(history.history['val_loss'], label='val')\n",
        "plt.xlabel('epochs')\n",
        "plt.ylabel('accuracy')\n",
        "plt.legend()"
      ],
      "metadata": {
        "id": "d12GPBWxtzzY"
      },
      "execution_count": null,
      "outputs": []
    },
    {
      "cell_type": "code",
      "source": [
        "# loss\n",
        "plt.plot(history.history['loss'], label='train')\n",
        "plt.plot(history.history['val_loss'], label='val')\n",
        "plt.xlabel('epochs')\n",
        "plt.ylabel('accuracy')\n",
        "plt.legend()"
      ],
      "metadata": {
        "id": "Gydvjn9Ht0bl"
      },
      "execution_count": null,
      "outputs": []
    }
  ]
}
