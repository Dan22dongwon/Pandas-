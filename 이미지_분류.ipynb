{
  "nbformat": 4,
  "nbformat_minor": 0,
  "metadata": {
    "colab": {
      "private_outputs": true,
      "provenance": [],
      "authorship_tag": "ABX9TyNE4kMHMDdV8ekSYFmwrPmR",
      "include_colab_link": true
    },
    "kernelspec": {
      "name": "python3",
      "display_name": "Python 3"
    },
    "language_info": {
      "name": "python"
    }
  },
  "cells": [
    {
      "cell_type": "markdown",
      "metadata": {
        "id": "view-in-github",
        "colab_type": "text"
      },
      "source": [
        "<a href=\"https://colab.research.google.com/github/Dan22dongwon/Pandas-sci-kit-learn/blob/main/%EC%9D%B4%EB%AF%B8%EC%A7%80_%EB%B6%84%EB%A5%98.ipynb\" target=\"_parent\"><img src=\"https://colab.research.google.com/assets/colab-badge.svg\" alt=\"Open In Colab\"/></a>"
      ]
    },
    {
      "cell_type": "markdown",
      "source": [
        "#이미지 분류\n",
        " - mnist 데이터"
      ],
      "metadata": {
        "id": "UhExtTudqXaP"
      }
    },
    {
      "cell_type": "code",
      "execution_count": null,
      "metadata": {
        "id": "xlJok-4kp5nf"
      },
      "outputs": [],
      "source": [
        "# 라이브러리 불러오기\n",
        "import tensorflow as tf\n",
        "import matplotlib.pyplot as plt"
      ]
    },
    {
      "cell_type": "code",
      "source": [
        "# version \n",
        "tf.__version__"
      ],
      "metadata": {
        "id": "9xR9oe1JrgIV"
      },
      "execution_count": null,
      "outputs": []
    },
    {
      "cell_type": "code",
      "source": [
        "# 데이터셋 불러오기\n",
        "mnist = tf.keras.datasets.mnist\n",
        "(X_train,y_train),(X_test,y_test)=mnist.load_data()"
      ],
      "metadata": {
        "id": "fHDHR3-Vrmef"
      },
      "execution_count": null,
      "outputs": []
    },
    {
      "cell_type": "code",
      "source": [
        "#데이터 크기 \n",
        "X_train.shape, y_train.shape, X_test.shape, y_test.shape"
      ],
      "metadata": {
        "id": "stdpGIk0r8eR"
      },
      "execution_count": null,
      "outputs": []
    },
    {
      "cell_type": "code",
      "source": [
        "#데이터 확인\n",
        "import numpy as np\n",
        "np.set_printoptions(linewidth=120)\n",
        "print(X_train[0])"
      ],
      "metadata": {
        "id": "CW0iwotHsNnx"
      },
      "execution_count": null,
      "outputs": []
    },
    {
      "cell_type": "code",
      "source": [
        "# 데이터 확인(이미지)\n",
        "plt.imshow(X_train[0])"
      ],
      "metadata": {
        "id": "t2yYxQ4EsftC"
      },
      "execution_count": null,
      "outputs": []
    },
    {
      "cell_type": "code",
      "source": [
        "#label 확인\n",
        "y_train[0]"
      ],
      "metadata": {
        "id": "usMB6OoTs9tJ"
      },
      "execution_count": null,
      "outputs": []
    },
    {
      "cell_type": "code",
      "source": [
        "#모델\n",
        "from tensorflow.keras.layers import Flatten, Dense\n",
        "from tensorflow.keras.models import Sequential\n",
        "\n",
        "model = Sequential([\n",
        "    Flatten(input_shape=(28,28)),\n",
        "    Dense(256, activation='relu'),\n",
        "    Dense(10,activation = 'softmax')\n",
        "])"
      ],
      "metadata": {
        "id": "sWRGxPIjtC-W"
      },
      "execution_count": null,
      "outputs": []
    },
    {
      "cell_type": "code",
      "source": [
        "# 모델 요약\n",
        "model.summary()"
      ],
      "metadata": {
        "id": "5RdK7xN2vg8F"
      },
      "execution_count": null,
      "outputs": []
    },
    {
      "cell_type": "code",
      "source": [
        "# 컴파일\n",
        "model.compile(optimizer = 'adam',\n",
        "              loss='sparse_categorical_crossentropy',\n",
        "              metrics=['accuracy']\n",
        "              )"
      ],
      "metadata": {
        "id": "Fx9GKs2wvoqH"
      },
      "execution_count": null,
      "outputs": []
    },
    {
      "cell_type": "code",
      "source": [
        "#학습\n",
        "history=model.fit(X_train,y_train,epochs=5)"
      ],
      "metadata": {
        "id": "Y0hzCn8Y6QZl"
      },
      "execution_count": null,
      "outputs": []
    },
    {
      "cell_type": "code",
      "source": [
        "# 학습 정확도 (epoch 에 따른 accuracy 변화)\n",
        "plt.plot(history.history['accuracy'],label='acc')\n",
        "plt.xlabel('epochs')\n",
        "plt.ylabel('accuracy')\n",
        "plt.legend()"
      ],
      "metadata": {
        "id": "toHR4TvnwS5J"
      },
      "execution_count": null,
      "outputs": []
    },
    {
      "cell_type": "code",
      "source": [
        "# Loss\n",
        "plt.plot(history.history['loss'],label='acc')\n",
        "plt.xlabel('epochs')\n",
        "plt.ylabel('loss')\n",
        "plt.legend()"
      ],
      "metadata": {
        "id": "Izv0wQrW7HHq"
      },
      "execution_count": null,
      "outputs": []
    },
    {
      "cell_type": "markdown",
      "source": [
        "#fashion_mnist 데이터"
      ],
      "metadata": {
        "id": "WnsGxvwzrf37"
      }
    },
    {
      "cell_type": "code",
      "source": [
        "# 라이브러리 불러오기\n",
        "import tensorflow as tf\n",
        "import numpy as np\n",
        "import matplotlib.patches"
      ],
      "metadata": {
        "id": "WtYoG_pI6kd6"
      },
      "execution_count": null,
      "outputs": []
    },
    {
      "cell_type": "code",
      "source": [
        "#데이터 불러오기\n",
        "mnist = tf.keras.datasets.fashion_mnist\n",
        "(X_train,y_train),(X_test,y_test)=mnist.load_data()"
      ],
      "metadata": {
        "id": "SXRi0RWU79ss"
      },
      "execution_count": null,
      "outputs": []
    },
    {
      "cell_type": "code",
      "source": [
        "# 평균화(0-1 사이)\n",
        "X_train, X_test = X_train / 255.0, X_test /255.0"
      ],
      "metadata": {
        "id": "IyQ38DF78Qzh"
      },
      "execution_count": null,
      "outputs": []
    },
    {
      "cell_type": "code",
      "source": [
        "# 데이터 확인(이미지)\n",
        "plt.imshow(X_train[0])"
      ],
      "metadata": {
        "id": "JbGkVBE38mUB"
      },
      "execution_count": null,
      "outputs": []
    },
    {
      "cell_type": "code",
      "source": [
        "y_train[0]"
      ],
      "metadata": {
        "id": "dg1y1JCb8uj3"
      },
      "execution_count": null,
      "outputs": []
    },
    {
      "cell_type": "code",
      "source": [
        "# label 확인\n",
        "classes = [\n",
        "   \"T-shirt/top\", \"Trouser\",\"Pullover\",\"Dress\",\"Coat\",\n",
        "   \"Sandal\",\"Shirt\",\"Sneaker\",\"Bag\",\"Ankle boot\",\n",
        "]\n",
        "print(classes[y_train[0]])"
      ],
      "metadata": {
        "id": "_c_HKUwn8y2w"
      },
      "execution_count": null,
      "outputs": []
    },
    {
      "cell_type": "code",
      "source": [
        "# 데이터 확인 (이미지, 레이블)\n",
        "print(classes[y_train[1]])\n",
        "plt.imshow(X_train[1])"
      ],
      "metadata": {
        "id": "iAhSX2Uq_pni"
      },
      "execution_count": null,
      "outputs": []
    },
    {
      "cell_type": "code",
      "source": [
        "# 모델\n",
        "from tensorflow.keras.layers import Flatten, Dense, Dropout\n",
        "from tensorflow.keras.models import Sequential\n",
        "\n",
        "model = Sequential([\n",
        "    Flatten(input_shape=(28,28)),\n",
        "    Dense(120, activation = 'relu'),\n",
        "    Dropout(0.2),\n",
        "    Dense(10, activation='softmax')\n",
        "])\n",
        "\n",
        "# 컴파일\n",
        "model.compile(optimizer='adam',\n",
        "              loss='sparse_categorical_crossentropy',  \n",
        "              metrics=['accuracy'])"
      ],
      "metadata": {
        "id": "9t_-IzNfALPG"
      },
      "execution_count": null,
      "outputs": []
    },
    {
      "cell_type": "code",
      "source": [
        "# 학습 2가지 방법\n",
        "# history = model.fit(X_train,y_train, validation_split=0.2,epochs=5)\n",
        "history = model.fit(X_train,y_train, validation_data=(X_test,y_test),epochs=10)"
      ],
      "metadata": {
        "id": "PWNxelM3DIE4"
      },
      "execution_count": null,
      "outputs": []
    },
    {
      "cell_type": "code",
      "source": [
        "# 학습정확도\n",
        "plt.plot(history.history['accuracy'],label='acc')\n",
        "plt.plot(history.history['val_accuracy'],label='val')\n",
        "plt.xlabel('epochs')\n",
        "plt.ylabel('accuracy')\n",
        "plt.legend()"
      ],
      "metadata": {
        "id": "Jij9j49SEN8m"
      },
      "execution_count": null,
      "outputs": []
    },
    {
      "cell_type": "code",
      "source": [
        "# loss\n",
        "plt.plot(history.history['loss'],label='train')\n",
        "plt.plot(history.history['val_loss'],label='val')\n",
        "plt.xlabel('epochs')\n",
        "plt.ylabel('loss')\n",
        "plt.legend()"
      ],
      "metadata": {
        "id": "bBlYvtyBFAyX"
      },
      "execution_count": null,
      "outputs": []
    },
    {
      "cell_type": "code",
      "source": [
        "# 예측\n",
        "pred = model.predict(X_test)\n",
        "pred[1]"
      ],
      "metadata": {
        "id": "w-v133gzFR_x"
      },
      "execution_count": null,
      "outputs": []
    },
    {
      "cell_type": "code",
      "source": [
        "# 가장 높은 값 찾기 (np.argmax()는 데이터 중 가장 높은 인덱스 값 변환)\n",
        "np.argmax(pred[1])"
      ],
      "metadata": {
        "id": "QXiguypJFf12"
      },
      "execution_count": null,
      "outputs": []
    },
    {
      "cell_type": "code",
      "source": [
        "# 예측한 label\n",
        "classes[np.argmax(pred[1])]"
      ],
      "metadata": {
        "id": "UZUjxZkMFzcE"
      },
      "execution_count": null,
      "outputs": []
    },
    {
      "cell_type": "code",
      "source": [
        "# 실제 label\n",
        "classes[y_test[1]]"
      ],
      "metadata": {
        "id": "AN-7uigBF8Xl"
      },
      "execution_count": null,
      "outputs": []
    },
    {
      "cell_type": "code",
      "source": [
        "# 이미지 확인\n",
        "plt.imshow(X_test[1])"
      ],
      "metadata": {
        "id": "Ov5xj3-xGHtZ"
      },
      "execution_count": null,
      "outputs": []
    },
    {
      "cell_type": "markdown",
      "source": [
        "# CNN을 활용한 이미지 분류\n",
        " - CNN(Convolutional Nueral Network)\n",
        "    - 시각적 영상을 분석하는데 사용되는 다중의 피드-포워드적인 인공신경망의 한 종류\n",
        "    - 합성곱층(Convolution layer)과 풀링층(Pooling layer)으로 구성\n",
        "\n",
        "\n",
        "- 합성곱 연산을 통한 이미지 분류 절차</br>\n",
        "  이미지 - > 합성곱 레이어 /커널(필터) 에의해 데이터가 만들어짐 -> 플링레이어 예) MaxPooling layer -> 피처 맵(특징추출맵) -> Flatten -> Denst\n"
      ],
      "metadata": {
        "id": "iRG1dILZGbUw"
      }
    },
    {
      "cell_type": "code",
      "source": [
        "# 라이브러리 불러오기\n",
        "import tensorflow as tf\n",
        "import matplotlib.pyplot as plt\n",
        "from tensorflow.keras.layers import Flatten, Dense, Dropout, Conv2D, MaxPooling2D\n",
        "from tensorflow.keras.models import Sequential\n",
        "\n",
        "# 데이터 불러오기\n",
        "mnist = tf.keras.datasets.fashion_mnist\n",
        "(X_train,y_train),(X_test,y_test) = mnist.load_data()\n",
        "\n",
        "# Shape 변경\n",
        "X_train = X_train.reshape((60000,28,28,1))\n",
        "X_test = X_test.reshape((10000,28,28,1))\n",
        "\n",
        "# 정규화\n",
        "X_train,X_test = X_train/255.0, X_test/255.0\n",
        "\n",
        "# 모델\n",
        "model = Sequential([\n",
        "    Conv2D(32,(3,3), activation='relu', input_shape=(28,28,1)),\n",
        "    MaxPooling2D((2,2)),\n",
        "    Conv2D(64,(3,3), activation='relu'),\n",
        "    MaxPooling2D((2,2)),\n",
        "    Flatten(),\n",
        "    Dense(64,activation='relu'),\n",
        "    Dense(10,activation='softmax')\n",
        "])\n",
        "\n",
        "# 컴파일\n",
        "model.compile(optimizer='adam',\n",
        "              loss='sparse_categorical_crossentropy',\n",
        "              metrics=['accuracy'])"
      ],
      "metadata": {
        "id": "Z4I6P3gzGUq5"
      },
      "execution_count": null,
      "outputs": []
    },
    {
      "cell_type": "code",
      "source": [
        "model.summary()"
      ],
      "metadata": {
        "id": "kCtJHZMoLgzN"
      },
      "execution_count": null,
      "outputs": []
    },
    {
      "cell_type": "code",
      "source": [
        "# 학습\n",
        "history = model.fit(X_train, y_train, validation_data=(X_test, y_test), epochs=10)"
      ],
      "metadata": {
        "id": "VrzaSbeFM2tS"
      },
      "execution_count": null,
      "outputs": []
    },
    {
      "cell_type": "code",
      "source": [
        "# 학습 정확도\n",
        "plt.plot(history.history['accuracy'],label='train')\n",
        "plt.plot(history.history['val_accuracy'],label='val')\n",
        "plt.xlabel('epochs')\n",
        "plt.ylabel('accuracy')\n",
        "plt.legend"
      ],
      "metadata": {
        "id": "xIXZnWJANOqY"
      },
      "execution_count": null,
      "outputs": []
    },
    {
      "cell_type": "code",
      "source": [
        "# loss\n",
        "plt.plot(history.history['loss'],label='train')\n",
        "plt.plot(history.history['val_loss'],label='val')\n",
        "plt.xlabel('epochs')\n",
        "plt.ylabel('loss')\n",
        "plt.legend"
      ],
      "metadata": {
        "id": "zLZEVfTiODYE"
      },
      "execution_count": null,
      "outputs": []
    },
    {
      "cell_type": "markdown",
      "source": [
        "# 마무리하며\n",
        "\n",
        ">딥러닝 \n",
        "- 학습과정 (순전파,손실함수,옵티마이저,역전파 등)\n",
        "\n",
        ">Tensorflow(텐서플로)\n",
        "- 이미지 분류\n",
        "\n",
        "> CNN(Convolutional Neural Networks)\n",
        "- 합성곱 연산, 멕스풀링"
      ],
      "metadata": {
        "id": "tNq8NKMsOgh4"
      }
    }
  ]
}