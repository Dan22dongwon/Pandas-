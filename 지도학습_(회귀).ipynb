{
  "nbformat": 4,
  "nbformat_minor": 0,
  "metadata": {
    "colab": {
      "private_outputs": true,
      "provenance": [],
      "authorship_tag": "ABX9TyPy3CjnXiUeuRqKkQM+o3On",
      "include_colab_link": true
    },
    "kernelspec": {
      "name": "python3",
      "display_name": "Python 3"
    },
    "language_info": {
      "name": "python"
    }
  },
  "cells": [
    {
      "cell_type": "markdown",
      "metadata": {
        "id": "view-in-github",
        "colab_type": "text"
      },
      "source": [
        "<a href=\"https://colab.research.google.com/github/Dan22dongwon/Pandas-sci-kit-learn/blob/main/%EC%A7%80%EB%8F%84%ED%95%99%EC%8A%B5_(%ED%9A%8C%EA%B7%80).ipynb\" target=\"_parent\"><img src=\"https://colab.research.google.com/assets/colab-badge.svg\" alt=\"Open In Colab\"/></a>"
      ]
    },
    {
      "cell_type": "markdown",
      "source": [
        "#1.선형 회귀\n",
        "\n",
        "- 선형회귀\n",
        " - 단순선형 회귀: 독립변수(피처)가 1개\n",
        " - 다중 선형 회귀: 독립변수(피처)가 2개 이상\n",
        "\n",
        "- 비용함수(Cost function)\n",
        " - 손실함수(Loss function),목적함수(Objective function)\n",
        " - 오차(error)를 계산 (실제 값과 예측 값 차이)\n",
        " - 평균 제곱 오차를 최소화하는 파라미터를 찾음\n",
        " \n",
        "- 경사하강법(Gradient Descent)\n",
        " - 경사하강법을 활용해 최소 에러 값을 찾음\n"
      ],
      "metadata": {
        "id": "kUdaGld_AvTJ"
      }
    },
    {
      "cell_type": "markdown",
      "source": [
        "#노드6. 지도학습(회기)"
      ],
      "metadata": {
        "id": "dVcCLWCK3YCI"
      }
    },
    {
      "cell_type": "code",
      "execution_count": null,
      "metadata": {
        "id": "4rdf-2zQAukf"
      },
      "outputs": [],
      "source": [
        "# 라이브러리 불러오기\n",
        "import pandas as pd\n",
        "from sklearn.model_selection import train_test_split\n",
        "from sklearn.metrics import mean_squared_error"
      ]
    },
    {
      "cell_type": "markdown",
      "source": [
        "#데이터 불러오기"
      ],
      "metadata": {
        "id": "3lFCA4SK4Kin"
      }
    },
    {
      "cell_type": "code",
      "source": [
        "#데이터 생성\n",
        "from sklearn.datasets import load_breast_cance  # 당뇨벙환자 데이터\n",
        "\n",
        "def make_dataset():\n",
        "  dataset = load_diabetes()\n",
        "  df = pd.DataFrame(dataset.data, columns=dataset.feature_names)\n",
        "  \n",
        "  X_train, X_test, y_train, y_test"
      ],
      "metadata": {
        "id": "ko4jBu2T4NH1"
      },
      "execution_count": null,
      "outputs": []
    }
  ]
}