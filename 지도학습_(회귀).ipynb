{
  "nbformat": 4,
  "nbformat_minor": 0,
  "metadata": {
    "colab": {
      "private_outputs": true,
      "provenance": [],
      "authorship_tag": "ABX9TyOJbSRFrtbQUc4zqbZba/NA",
      "include_colab_link": true
    },
    "kernelspec": {
      "name": "python3",
      "display_name": "Python 3"
    },
    "language_info": {
      "name": "python"
    }
  },
  "cells": [
    {
      "cell_type": "markdown",
      "metadata": {
        "id": "view-in-github",
        "colab_type": "text"
      },
      "source": [
        "<a href=\"https://colab.research.google.com/github/Dan22dongwon/Pandas-sci-kit-learn/blob/main/%EC%A7%80%EB%8F%84%ED%95%99%EC%8A%B5_(%ED%9A%8C%EA%B7%80).ipynb\" target=\"_parent\"><img src=\"https://colab.research.google.com/assets/colab-badge.svg\" alt=\"Open In Colab\"/></a>"
      ]
    },
    {
      "cell_type": "markdown",
      "source": [
        "#1.선형 회귀\n",
        "\n",
        "- 선형회귀\n",
        " - 단순선형 회귀: 독립변수(피처)가 1개\n",
        " - 다중 선형 회귀: 독립변수(피처)가 2개 이상\n",
        "\n",
        "- 비용함수(Cost function)\n",
        " - 손실함수(Loss function),목적함수(Objective function)\n",
        " - 오차(error)를 계산 (실제 값과 예측 값 차이)\n",
        " - 평균 제곱 오차를 최소화하는 파라미터를 찾음\n",
        " \n",
        "- 경사하강법(Gradient Descent)\n",
        " - 경사하강법을 활용해 최소 에러 값을 찾음\n"
      ],
      "metadata": {
        "id": "kUdaGld_AvTJ"
      }
    },
    {
      "cell_type": "markdown",
      "source": [
        "#노드6. 지도학습(회기)"
      ],
      "metadata": {
        "id": "dVcCLWCK3YCI"
      }
    },
    {
      "cell_type": "code",
      "execution_count": null,
      "metadata": {
        "id": "4rdf-2zQAukf"
      },
      "outputs": [],
      "source": [
        "# 라이브러리 불러오기\n",
        "import pandas as pd\n",
        "from sklearn.model_selection import train_test_split\n",
        "from sklearn.metrics import mean_squared_error"
      ]
    },
    {
      "cell_type": "markdown",
      "source": [
        "#데이터 불러오기"
      ],
      "metadata": {
        "id": "3lFCA4SK4Kin"
      }
    },
    {
      "cell_type": "code",
      "source": [
        "#데이터 생성\n",
        "from sklearn.datasets import load_diabetes # 당뇨병 환자 데이터\n",
        "def make_dataset():\n",
        "    dataset = load_diabetes()\n",
        "    df = pd.DataFrame(dataset.data, columns=dataset.feature_names)\n",
        "    df['target'] = dataset.target\n",
        "    X_train, X_test, y_train, y_test = train_test_split(\n",
        "        df.drop('target', axis=1), df['target'], test_size=0.2, random_state=1004)\n",
        "    return X_train, X_test, y_train, y_test\n",
        "\n",
        "X_train, X_test, y_train, y_test = make_dataset()\n",
        "X_train.shape, X_test.shape, y_train.shape, y_test.shape"
      ],
      "metadata": {
        "id": "ko4jBu2T4NH1"
      },
      "execution_count": null,
      "outputs": []
    },
    {
      "cell_type": "code",
      "source": [
        "# Train 샘플\n",
        "X_train.head()"
      ],
      "metadata": {
        "id": "Cn9AtZQ71tdN"
      },
      "execution_count": null,
      "outputs": []
    },
    {
      "cell_type": "code",
      "source": [
        "# 타켓 샘플\n",
        "y_train.head()"
      ],
      "metadata": {
        "id": "_YO3OdZq1yht"
      },
      "execution_count": null,
      "outputs": []
    },
    {
      "cell_type": "code",
      "source": [
        "# 타겟 확인\n",
        "y_train.hist()"
      ],
      "metadata": {
        "id": "Gnx0x3nQ12rS"
      },
      "execution_count": null,
      "outputs": []
    },
    {
      "cell_type": "markdown",
      "source": [
        "#선형 회귀"
      ],
      "metadata": {
        "id": "vHpue0Ei5xKP"
      }
    },
    {
      "cell_type": "code",
      "source": [
        "# 선형 회귀\n",
        "from sklearn.linear_model import LinearRegression\n",
        "model = LinearRegression()\n",
        "model.fit(X_train, y_train)\n",
        "pred = model.predict(X_test)\n",
        "mean_squared_error(y_test,pred)"
      ],
      "metadata": {
        "id": "CLAaR_zj5veG"
      },
      "execution_count": null,
      "outputs": []
    },
    {
      "cell_type": "markdown",
      "source": [
        "#릿지 회귀\n",
        "\n",
        "- 회귀를 위한 선형 모델\n",
        "- 규제(reqularization)적용\n",
        "  - 오버피팅 되지 않도록함\n",
        "  - 규제방식: L2 규제\n",
        "  - 파라미터(alpha)값을 활용해 조절\n",
        "  - alpha 값이 커질 수록 회귀 계수 값을 작게 만듦"
      ],
      "metadata": {
        "id": "0M8fg7xe-HQD"
      }
    },
    {
      "cell_type": "code",
      "source": [
        "#데이터 생성\n",
        "from sklearn.datasets import load_diabetes # 당뇨병 환자 데이터\n",
        "def make_dataset():\n",
        "    dataset = load_diabetes()\n",
        "    df = pd.DataFrame(dataset.data, columns=dataset.feature_names)\n",
        "    df['target'] = dataset.target\n",
        "    X_train, X_test, y_train, y_test = train_test_split(\n",
        "        df.drop('target', axis=1), df['target'], test_size=0.2, random_state=1004)\n",
        "    return X_train, X_test, y_train, y_test\n",
        "\n",
        "X_train, X_test, y_train, y_test = make_dataset()\n",
        "X_train.shape, X_test.shape, y_train.shape, y_test.shape"
      ],
      "metadata": {
        "id": "xUv35eDHCwPM"
      },
      "execution_count": null,
      "outputs": []
    },
    {
      "cell_type": "code",
      "source": [
        "# 릿지 회귀\n",
        "from sklearn.linear_model import Ridge\n",
        "model = Ridge(alpha=1)\n",
        "model.fit(X_train,y_train)\n",
        "pred = model.predict(X_test)\n",
        "mean_squared_error(y_test,pred)"
      ],
      "metadata": {
        "id": "XRf0D2-V-GRO"
      },
      "execution_count": null,
      "outputs": []
    },
    {
      "cell_type": "code",
      "source": [
        "# 회귀 계수\n",
        "coef = pd.DataFrame(data=model.coef_,index=X_train.columns, columns=['alpha1'])\n",
        "coef"
      ],
      "metadata": {
        "id": "IpQv-DGt_19h"
      },
      "execution_count": null,
      "outputs": []
    },
    {
      "cell_type": "code",
      "source": [
        "# 릿지 회귀(alpha=10)\n",
        "model = Ridge(alpha=10)\n",
        "model.fit(X_train,y_train)\n",
        "pred = model.predict(X_test)\n",
        "mean_squared_error(y_test,pred)"
      ],
      "metadata": {
        "id": "VhMdX6GqAbR_"
      },
      "execution_count": null,
      "outputs": []
    },
    {
      "cell_type": "code",
      "source": [
        "# 회귀 게수 (alpha =10)\n",
        "coef['alpa10']= model.coef_\n",
        "coef"
      ],
      "metadata": {
        "id": "a-YwDOv5B4BW"
      },
      "execution_count": null,
      "outputs": []
    },
    {
      "cell_type": "code",
      "source": [
        "# 릿지 회귀 (alpha = 0.1)\n",
        "model = Ridge(alpha=0.1)\n",
        "model.fit(X_train,y_train)\n",
        "pred = model.predict(X_test)\n",
        "mean_squared_error(y_test,pred)"
      ],
      "metadata": {
        "id": "F886EiFXCXgU"
      },
      "execution_count": null,
      "outputs": []
    },
    {
      "cell_type": "code",
      "source": [
        "# 릿지 회귀 (alpha = 0.01)\n",
        "model = Ridge(alpha=0.01)\n",
        "model.fit(X_train,y_train)\n",
        "pred = model.predict(X_test)\n",
        "mean_squared_error(y_test,pred)"
      ],
      "metadata": {
        "id": "gyW6UXazCmHy"
      },
      "execution_count": null,
      "outputs": []
    },
    {
      "cell_type": "markdown",
      "source": [
        "# 라쏘 회귀\n",
        "- 회귀를 위한 선형 모델\n",
        "- 규제(regularization)적용\n",
        "  - 오버피팅 되지 않도 록 함\n",
        "  - 규제방식: L1규제\n",
        "  - L2에 비해 회귀 계수를 급격히 감소시켜 0으로 만듦\n",
        "  - L1규제는 중요한 피처만 선택 하는 특성이 있음"
      ],
      "metadata": {
        "id": "lDrhtmY_DTOi"
      }
    },
    {
      "cell_type": "code",
      "source": [
        "# 라쏘 회귀\n",
        "from sklearn.linear_model import Lasso\n",
        "model = Lasso(alpha=1)\n",
        "model.fit(X_train,y_train)\n",
        "pred = model.predict(X_test)\n",
        "mean_squared_error(y_test,pred)"
      ],
      "metadata": {
        "id": "F1IKlJX4DSvi"
      },
      "execution_count": null,
      "outputs": []
    },
    {
      "cell_type": "code",
      "source": [
        "#회귀 계수\n",
        "coef = pd.DataFrame(data=model.coef_, index= X_train.columns, columns=['alpha1'])\n",
        "coef"
      ],
      "metadata": {
        "id": "j7uIE5nzKqc5"
      },
      "execution_count": null,
      "outputs": []
    },
    {
      "cell_type": "code",
      "source": [
        "#라쏘 회귀(alpha =0.05 )\n",
        "from sklearn.linear_model import Lasso\n",
        "model = Lasso(alpha=0.05)\n",
        "model.fit(X_train,y_train)\n",
        "pred = model.predict(X_test)\n",
        "mean_squared_error(y_test,pred)"
      ],
      "metadata": {
        "id": "z0aT7uuvLpdu"
      },
      "execution_count": null,
      "outputs": []
    },
    {
      "cell_type": "code",
      "source": [
        "coef['alpha2']=model.coef_\n",
        "coef"
      ],
      "metadata": {
        "id": "Y6fNumy3L077"
      },
      "execution_count": null,
      "outputs": []
    },
    {
      "cell_type": "markdown",
      "source": [
        "# 엘라스틱넷 회귀\n",
        "- 회귀를 위한 선형 모델\n",
        "- L2규제와 L1규제 결합한 회귀\n",
        "- 시간이 상대적으로 오래 걸림"
      ],
      "metadata": {
        "id": "GmwHZ6YxMosk"
      }
    },
    {
      "cell_type": "code",
      "source": [
        "#엘라스틱넷 회귀\n",
        "from sklearn.linear_model import ElasticNet\n",
        "model = ElasticNet(alpha=1)\n",
        "model.fit(X_train,y_train)\n",
        "pred = model.predict(X_test)\n",
        "mean_squared_error(y_test,pred)\n"
      ],
      "metadata": {
        "id": "-a8yEDLNM2_r"
      },
      "execution_count": null,
      "outputs": []
    },
    {
      "cell_type": "code",
      "source": [
        "#엘라스틱넷 회귀\n",
        "from sklearn.linear_model import ElasticNet\n",
        "model = ElasticNet(alpha=0.0001, l1_ratio=0.6)\n",
        "model.fit(X_train,y_train)\n",
        "pred = model.predict(X_test)\n",
        "mean_squared_error(y_test,pred)"
      ],
      "metadata": {
        "id": "zHzsKrPlNHer"
      },
      "execution_count": null,
      "outputs": []
    },
    {
      "cell_type": "markdown",
      "source": [
        "# 랜덤포레스트 & xgboost\n",
        "- 분류에서 공부 하였으나 회귀에도 사용 가능\n"
      ],
      "metadata": {
        "id": "sdhytfA7PFHJ"
      }
    },
    {
      "cell_type": "markdown",
      "source": [
        "#랜덤포레스트"
      ],
      "metadata": {
        "id": "6naFMb9xPWLU"
      }
    },
    {
      "cell_type": "code",
      "source": [
        "#랜덤포레스트\n",
        "from sklearn.ensemble import RandomForestRegressor\n",
        "model = RandomForestRegressor()\n",
        "model.fit(X_train,y_train)\n",
        "pred = model.predict(X_test)\n",
        "mean_squared_error(y_test,pred)"
      ],
      "metadata": {
        "id": "kpn8fhiDPEcu"
      },
      "execution_count": null,
      "outputs": []
    },
    {
      "cell_type": "markdown",
      "source": [
        "#xgboost"
      ],
      "metadata": {
        "id": "Ql4AOLF5PVZ2"
      }
    },
    {
      "cell_type": "code",
      "source": [
        "#xgboost\n",
        "from xgboost import XGBRegressor\n",
        "model = XGBRegressor()\n",
        "model.fit(X_train,y_train)\n",
        "pred = model.predict(X_test)\n",
        "mean_squared_error(y_test,pred)"
      ],
      "metadata": {
        "id": "6FbcDWeKNybi"
      },
      "execution_count": null,
      "outputs": []
    },
    {
      "cell_type": "markdown",
      "source": [
        "#하이퍼파라미터 튜닝"
      ],
      "metadata": {
        "id": "EHAvfz_zQf0V"
      }
    },
    {
      "cell_type": "code",
      "source": [
        "# 라이브러리 불러오기\n",
        "from sklearn.model_selection import GridSearchCV, RandomizedSearchCV  # grid ->오래 거릴수 있고 하나하나 다 들어감?  Random -> 파라메터를 정할수 있어 빠르게 처리 가능\n"
      ],
      "metadata": {
        "id": "ty3TMi7rT60C"
      },
      "execution_count": null,
      "outputs": []
    },
    {
      "cell_type": "code",
      "source": [
        "# 하이퍼파라미터\n",
        "params = {'learning_rate': [0.07, 0.05],\n",
        "          'max_depth':[3,5,7],\n",
        "          'n_estimator':[100,200],\n",
        "          'subsamp':[0.9,0.8,0.7]\n",
        "          }"
      ],
      "metadata": {
        "id": "YUJjnKiFVWkC"
      },
      "execution_count": null,
      "outputs": []
    },
    {
      "cell_type": "code",
      "source": [
        "# 데이터셋 로드\n",
        "def make_dataset2():\n",
        "   dataset = load_diabetes()\n",
        "   df = pd.DataFrame(dataset.data, columns = dataset.feature_names)\n",
        "   df['target'] = dataset.target\n",
        "   return df.drop('target', axis=1),df['target']\n",
        "\n",
        "X,y = make_dataset2()"
      ],
      "metadata": {
        "id": "3HPk6RtQb_5r"
      },
      "execution_count": null,
      "outputs": []
    },
    {
      "cell_type": "markdown",
      "source": [
        "#GridSearchCV\n",
        "- GridSearchCV를 통해 최적의 하이퍼파라미터를 찾음 (시간 오래 걸림)"
      ],
      "metadata": {
        "id": "l_IP1fh6cxoy"
      }
    },
    {
      "cell_type": "code",
      "source": [
        "# GridSearchCV\n",
        "xgb = XGBRegressor()\n",
        "grid = GridSearchCV(xgb, params, cv=3, n_jobs=-1)  # 일반적으로 CV= 5개로 줌\n",
        "grid.fit(X,y)"
      ],
      "metadata": {
        "id": "NBTJoYlbc-z3"
      },
      "execution_count": null,
      "outputs": []
    },
    {
      "cell_type": "code",
      "source": [
        "#최적의 하이퍼파라미터를 찾음\n",
        "grid.best_params_"
      ],
      "metadata": {
        "id": "WX1ErkZW4WAN"
      },
      "execution_count": null,
      "outputs": []
    },
    {
      "cell_type": "code",
      "source": [
        "# 하이퍼파라미터 튜닝\n",
        "xgb = XGBRegressor(\n",
        "    learning_rate = 0.05,\n",
        "    max_depth = 3,\n",
        "    n_estimators = 100,\n",
        "    subsample = 0.7)\n",
        "xgb.fit(X_train, y_train)\n",
        "pred = xgb.predict(X_test)\n",
        "mean_squared_error(y_test,pred)"
      ],
      "metadata": {
        "id": "NW1VLwkQ4WgM"
      },
      "execution_count": null,
      "outputs": []
    },
    {
      "cell_type": "markdown",
      "source": [
        "#Random Search\n",
        "- Random Search 는 GridSearchCV와 달리 랜덤으로 N개의 조합만 탐색함(시간 내 최적의 하이퍼파라미터 탐색)"
      ],
      "metadata": {
        "id": "0yAkfq-G5XSj"
      }
    },
    {
      "cell_type": "code",
      "source": [
        "# Random Search\n",
        "xgb = XGBRegressor()\n",
        "grid = RandomizedSearchCV(xgb, params, n_iter=10 , n_jobs=-1)  # 일반적으로 CV= 5개로 줌\n",
        "grid.fit(X,y)"
      ],
      "metadata": {
        "id": "bUub9rLM5lJb"
      },
      "execution_count": null,
      "outputs": []
    },
    {
      "cell_type": "code",
      "source": [
        "# 최적의 하이퍼파라미터를 찾음\n",
        "grid.best_params_"
      ],
      "metadata": {
        "id": "qDNlc8r_5oI5"
      },
      "execution_count": null,
      "outputs": []
    },
    {
      "cell_type": "markdown",
      "source": [
        "#평가(회귀)"
      ],
      "metadata": {
        "id": "7EnH1Y2H6KvB"
      }
    },
    {
      "cell_type": "code",
      "source": [
        "# MAE\n",
        "from sklearn.metrics import mean_absolute_error\n",
        "mean_absolute_error(y_test, pred)"
      ],
      "metadata": {
        "id": "UXODP8dP5rEY"
      },
      "execution_count": null,
      "outputs": []
    },
    {
      "cell_type": "code",
      "source": [
        "# MSE \n",
        "from sklearn.metrics import mean_squared_error\n",
        "mean_squared_error(y_test, pred)"
      ],
      "metadata": {
        "id": "84-7KyxD6Pzv"
      },
      "execution_count": null,
      "outputs": []
    },
    {
      "cell_type": "code",
      "source": [
        "# RMSE\n",
        "import numpy as np\n",
        "np.sqrt(mean_squared_error(y_test, pred))"
      ],
      "metadata": {
        "id": "X_EzhPpN6Pw9"
      },
      "execution_count": null,
      "outputs": []
    },
    {
      "cell_type": "code",
      "source": [
        "# RMSLE\n",
        "from sklearn.metrics import mean_squared_log_error\n",
        "np.sqrt(mean_squared_log_error(y_test, pred))"
      ],
      "metadata": {
        "id": "K7Z7TCiF6Pn1"
      },
      "execution_count": null,
      "outputs": []
    },
    {
      "cell_type": "code",
      "source": [
        "# R2  1과 가까울수록 좋음 나머지와 다르게\n",
        "\n",
        "from sklearn.metrics import r2_score\n",
        "r2_score(y_test, pred)"
      ],
      "metadata": {
        "id": "TzFvcuLBDBXI"
      },
      "execution_count": null,
      "outputs": []
    }
  ]
}