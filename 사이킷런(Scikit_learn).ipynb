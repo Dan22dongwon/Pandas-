{
  "nbformat": 4,
  "nbformat_minor": 0,
  "metadata": {
    "colab": {
      "private_outputs": true,
      "provenance": [],
      "authorship_tag": "ABX9TyO/NFCvFhalbgqCqjS1heeN",
      "include_colab_link": true
    },
    "kernelspec": {
      "name": "python3",
      "display_name": "Python 3"
    },
    "language_info": {
      "name": "python"
    }
  },
  "cells": [
    {
      "cell_type": "markdown",
      "metadata": {
        "id": "view-in-github",
        "colab_type": "text"
      },
      "source": [
        "<a href=\"https://colab.research.google.com/github/Dan22dongwon/Pandas-/blob/main/%EC%82%AC%EC%9D%B4%ED%82%B7%EB%9F%B0(Scikit_learn).ipynb\" target=\"_parent\"><img src=\"https://colab.research.google.com/assets/colab-badge.svg\" alt=\"Open In Colab\"/></a>"
      ]
    },
    {
      "cell_type": "code",
      "execution_count": null,
      "metadata": {
        "id": "hkvywQOqvD1L"
      },
      "outputs": [],
      "source": [
        "import pandas as pd\n",
        "import numpy as np\n",
        "data = pd.DataFrame({\n",
        "    '메뉴': ['[인기]아이펠치킨','닭강정','간장치킨','마늘치킨','파닭','승일양념치킨','양념반후라이드반','황금후라이드','[베스트]풀잎치킨'],\n",
        "    '가격': [16000,15000,14000,14000,14000,13000,13000,12000,9900],\n",
        "    '호수' : [11,12,9,9,11,10,10,10,10],\n",
        "    '칼로리' : [1200.0,1500.0,1600.0,1800.0,1300.0,1400.0,1300.0,1000.0,1000.0],\n",
        "    '할인율' : [0.5,0.2,0.2,0.2,0.2,0.2,0.2,0.2,np.nan],\n",
        "    '할인가' : [8000.0,12000.0,11200.0,11200.0,11200.0,10400.0,10400.0,9600.0,np.nan],\n",
        "    '원산지' : ['국내산','브라질','국내산','국내산','브라질','국내산','국내산','국내산','국내산'],\n",
        "    '살찔까요' : ['no','yes','yes','yes','yes','yes','yes','no','no'],\n",
        "    '고민' : ['무조건먹자','먹지말자','먹지말자','먹지말자','먹지말자','먹지말자','먹지말자','무조건먹자','무조건먹자']\n",
        "})\n",
        "data.to_csv('final_modudak.csv', index=False)\n",
        "data"
      ]
    },
    {
      "cell_type": "code",
      "source": [
        "#데이터 변경\n",
        "data.loc[2,'원산지'] = '미국'\n",
        "df"
      ],
      "metadata": {
        "id": "YkVdVLMKvQCb"
      },
      "execution_count": null,
      "outputs": []
    },
    {
      "cell_type": "code",
      "source": [
        "# 활용할 데이터 선택\n",
        "df = data[['가격','호수','칼로리','살찔까요']].copy()\n",
        "df"
      ],
      "metadata": {
        "id": "SXMeDT3yvnyQ"
      },
      "execution_count": null,
      "outputs": []
    },
    {
      "cell_type": "markdown",
      "source": [
        "#데이터 전처리: 범주형 데이터\n",
        "\n",
        "  레이블(Label) 인코딩"
      ],
      "metadata": {
        "id": "1C8-jbh5xRIc"
      }
    },
    {
      "cell_type": "code",
      "source": [
        "import pandas as pd\n",
        "import numpy as np\n",
        "data = pd.DataFrame({\n",
        "    '메뉴': ['[인기]아이펠치킨','닭강정','간장치킨','마늘치킨','파닭','승일양념치킨','양념반후라이드반','황금후라이드','[베스트]풀잎치킨'],\n",
        "    '가격': [16000,15000,14000,14000,14000,13000,13000,12000,9900],\n",
        "    '호수' : [11,12,9,9,11,10,10,10,10],\n",
        "    '칼로리' : [1200.0,1500.0,1600.0,1800.0,1300.0,1400.0,1300.0,1000.0,1000.0],\n",
        "    '할인율' : [0.5,0.2,0.2,0.2,0.2,0.2,0.2,0.2,np.nan],\n",
        "    '할인가' : [8000.0,12000.0,11200.0,11200.0,11200.0,10400.0,10400.0,9600.0,np.nan],\n",
        "    '원산지' : ['국내산','브라질','국내산','국내산','브라질','국내산','국내산','국내산','국내산'],\n",
        "    '살찔까요' : ['no','yes','yes','yes','yes','yes','yes','no','no'],\n",
        "    '고민' : ['무조건먹자','먹지말자','먹지말자','먹지말자','먹지말자','먹지말자','먹지말자','무조건먹자','무조건먹자']\n",
        "})\n",
        "data.to_csv('final_modudak.csv', index=False)\n",
        "data\n",
        "\n",
        "data.loc[2,'원산지'] = '미국'\n",
        "df"
      ],
      "metadata": {
        "id": "YWDhOgKGyw-8"
      },
      "execution_count": null,
      "outputs": []
    },
    {
      "cell_type": "code",
      "source": [
        "df = data[['원산지','가격','호수','칼로리','살찔까요']].copy()\n",
        "df"
      ],
      "metadata": {
        "id": "W99Xpxa5zndX"
      },
      "execution_count": null,
      "outputs": []
    },
    {
      "cell_type": "code",
      "source": [
        "#type\n",
        "df.info()"
      ],
      "metadata": {
        "id": "BJTVVh4wz1hT"
      },
      "execution_count": null,
      "outputs": []
    },
    {
      "cell_type": "code",
      "source": [
        "# 레이블(label) 인코딩   \n",
        "from sklearn.preprocessing import LabelEncoder   # 사이드킷런 라이브러리 불러오기\n",
        "le = LabelEncoder()\n",
        "le.fit(df['원산지'])           # 1. le   2. fit 3. transform\n",
        "le.transform(df['원산지'])"
      ],
      "metadata": {
        "id": "zyz6dU3mxQuk"
      },
      "execution_count": null,
      "outputs": []
    },
    {
      "cell_type": "markdown",
      "source": [],
      "metadata": {
        "id": "rbildoOzyTqB"
      }
    },
    {
      "cell_type": "code",
      "source": [
        "# fit_transform   d위엣 것에서 한줄에 쓰기\n",
        "le.fit_transform(df['원산지'])"
      ],
      "metadata": {
        "id": "NBzbd6ESx5DO"
      },
      "execution_count": null,
      "outputs": []
    },
    {
      "cell_type": "code",
      "source": [
        "#데이터 변환\n",
        "df['원산지']  = le.fit_transform(df['원산지'])\n",
        "df"
      ],
      "metadata": {
        "id": "vWso7BH4yBXp"
      },
      "execution_count": null,
      "outputs": []
    },
    {
      "cell_type": "code",
      "source": [
        "#'살찔까요' 라벨인코딩\n",
        "le = LabelEncoder()\n",
        "df['살찔까요']  = le.fit_transform(df['살찔까요'])\n",
        "df"
      ],
      "metadata": {
        "id": "oyin4sQxyD08"
      },
      "execution_count": null,
      "outputs": []
    },
    {
      "cell_type": "markdown",
      "source": [
        "#레이블 인코딩(심화)\n",
        " - 여러개 컬럼 한번에 인코딩"
      ],
      "metadata": {
        "id": "tv9-2UPNyJJd"
      }
    },
    {
      "cell_type": "code",
      "source": [
        "import pandas as pd\n",
        "import numpy as np\n",
        "data = pd.DataFrame({\n",
        "    '메뉴': ['[인기]아이펠치킨','닭강정','간장치킨','마늘치킨','파닭','승일양념치킨','양념반후라이드반','황금후라이드','[베스트]풀잎치킨'],\n",
        "    '가격': [16000,15000,14000,14000,14000,13000,13000,12000,9900],\n",
        "    '호수' : [11,12,9,9,11,10,10,10,10],\n",
        "    '칼로리' : [1200.0,1500.0,1600.0,1800.0,1300.0,1400.0,1300.0,1000.0,1000.0],\n",
        "    '할인율' : [0.5,0.2,0.2,0.2,0.2,0.2,0.2,0.2,np.nan],\n",
        "    '할인가' : [8000.0,12000.0,11200.0,11200.0,11200.0,10400.0,10400.0,9600.0,np.nan],\n",
        "    '원산지' : ['국내산','브라질','국내산','국내산','브라질','국내산','국내산','국내산','국내산'],\n",
        "    '살찔까요' : ['no','yes','yes','yes','yes','yes','yes','no','no'],\n",
        "    '고민' : ['무조건먹자','먹지말자','먹지말자','먹지말자','먹지말자','먹지말자','먹지말자','무조건먹자','무조건먹자']\n",
        "})\n",
        "data.to_csv('final_modudak.csv', index=False)\n",
        "data\n",
        "\n",
        "data.loc[2,'원산지'] = '미국'\n",
        "df"
      ],
      "metadata": {
        "id": "cgGjzFdo1xsg"
      },
      "execution_count": null,
      "outputs": []
    },
    {
      "cell_type": "code",
      "source": [
        "#활용할 데이터 선택\n",
        "df = data[['원산지','가격','호수','칼로리','살찔까요']].copy()\n",
        "df"
      ],
      "metadata": {
        "id": "xRqYGdPYyPBT"
      },
      "execution_count": null,
      "outputs": []
    },
    {
      "cell_type": "code",
      "source": [
        "#object 타입 선택 ['원산지','살찔까요']\n",
        "cols = ['원산지','살찔까요']\n",
        "\n"
      ],
      "metadata": {
        "id": "BPJAuCZn146x"
      },
      "execution_count": null,
      "outputs": []
    },
    {
      "cell_type": "code",
      "source": [
        "#한번에 레이블 인코딩\n",
        "from sklearn.preprocessing import LabelEncoder\n",
        "\n",
        "for col in cols:\n",
        "    le = LabelEncoder()\n",
        "    df[col]=le.fit_transform(df[col])"
      ],
      "metadata": {
        "id": "Un_ApPma2VG8"
      },
      "execution_count": null,
      "outputs": []
    },
    {
      "cell_type": "code",
      "source": [
        "#인코딩 결과\n",
        "df"
      ],
      "metadata": {
        "id": "0Uadefum274r"
      },
      "execution_count": null,
      "outputs": []
    },
    {
      "cell_type": "code",
      "source": [
        "#다른 방법\n",
        "df = data[['원산지','가격','호수','칼로리','살찔까요']].copy()\n",
        "df\n"
      ],
      "metadata": {
        "id": "hDYLfBlh3YVv"
      },
      "execution_count": null,
      "outputs": []
    },
    {
      "cell_type": "code",
      "source": [
        "cols = df.select_dtypes(include='object').columns\n",
        "\n",
        "from sklearn.preprocessing import LabelEncoder\n",
        "\n",
        "for col in cols:\n",
        "    le = LabelEncoder()\n",
        "    df[col]=le.fit_transform(df[col])\n",
        "\n",
        "df"
      ],
      "metadata": {
        "id": "a5PGtC733l7b"
      },
      "execution_count": null,
      "outputs": []
    },
    {
      "cell_type": "markdown",
      "source": [
        "#원핫(one-hot) 인코딩"
      ],
      "metadata": {
        "id": "96aAYjX8-Ul6"
      }
    },
    {
      "cell_type": "code",
      "source": [
        "# 활용할 데이터 선택\n",
        "df = data[['원산지','가격','호수','칼로리','살찔까요']].copy()\n",
        "df"
      ],
      "metadata": {
        "id": "vzb-MBPD-TJJ"
      },
      "execution_count": null,
      "outputs": []
    },
    {
      "cell_type": "code",
      "source": [
        "# 원핫 인코딩\n",
        "from sklearn.preprocessing import OneHotEncoder\n",
        "ohe = OneHotEncoder(sparse=False)\n",
        "cat = ohe.fit_transform(df[['원산지']])\n",
        "cat"
      ],
      "metadata": {
        "id": "SixERLPF-pOf"
      },
      "execution_count": null,
      "outputs": []
    },
    {
      "cell_type": "code",
      "source": [
        "# 카테고리\n",
        "ohe.categories_"
      ],
      "metadata": {
        "id": "jLqZl8IS-q4G"
      },
      "execution_count": null,
      "outputs": []
    },
    {
      "cell_type": "code",
      "source": [
        "# 피처 (컬럼) 이름과 카테고리\n",
        "ohe.get_feature_names_out()"
      ],
      "metadata": {
        "id": "cMSCfdwO-siT"
      },
      "execution_count": null,
      "outputs": []
    },
    {
      "cell_type": "code",
      "source": [
        "# 데이터프레임으로 변환 \n",
        "df_cat=pd.DataFrame(cat,columns=ohe.get_feature_names_out())"
      ],
      "metadata": {
        "id": "gqIpy8zs-wK2"
      },
      "execution_count": null,
      "outputs": []
    },
    {
      "cell_type": "code",
      "source": [
        "# 데이터 프레임 합치기\n",
        "pd.concat([df,df_cat],axis=1)\n",
        "df"
      ],
      "metadata": {
        "id": "t2CpD24cAP60"
      },
      "execution_count": null,
      "outputs": []
    },
    {
      "cell_type": "code",
      "source": [
        "# 기존 컬럼 삭제 \n",
        "df.drop(['원산지'],axis=1)"
      ],
      "metadata": {
        "id": "H_i95HczAbhZ"
      },
      "execution_count": null,
      "outputs": []
    },
    {
      "cell_type": "markdown",
      "source": [
        "#원핫 인코딩 (심화)\n",
        "- 여러개 컬럼 한 번에 인코딩"
      ],
      "metadata": {
        "id": "24BTJ0afB9KR"
      }
    },
    {
      "cell_type": "code",
      "source": [
        "# 활용할 데이터 선택\n",
        "df = data[['원산지','가격','호수','칼로리','살찔까요']].copy()\n",
        "df"
      ],
      "metadata": {
        "id": "xgfl7rk3B8rF"
      },
      "execution_count": null,
      "outputs": []
    },
    {
      "cell_type": "code",
      "source": [
        "# 원핫인코딩\n",
        "from sklearn.preprocessing import OneHotEncoder\n",
        "\n",
        "cols = df.select_dtypes(include='object').columns\n",
        "\n",
        "ohe = OneHotEncoder(sparse=False)\n",
        "cat = ohe.fit_transform(df[cols])\n",
        "df_cat = pd.DataFrame(cat,columns=ohe.get_feature_names_out())\n",
        "df_cat"
      ],
      "metadata": {
        "id": "MVPIBMkDCPuQ"
      },
      "execution_count": null,
      "outputs": []
    },
    {
      "cell_type": "code",
      "source": [
        "# 데이커 프레임 합치기\n",
        "df = pd.concat([df,df_cat],axis=1)\n",
        "df.head()"
      ],
      "metadata": {
        "id": "baiLDrQECVpX"
      },
      "execution_count": null,
      "outputs": []
    },
    {
      "cell_type": "code",
      "source": [
        "# 컬럼 삭제\n",
        "df = df.drop(cols, axis=1)\n",
        "df = df.drop(['원산지'])"
      ],
      "metadata": {
        "id": "yyS9IpeZCXu0"
      },
      "execution_count": null,
      "outputs": []
    },
    {
      "cell_type": "markdown",
      "source": [
        "#[TIP] 원핫인코딩 판다스 활용 "
      ],
      "metadata": {
        "id": "3M7gk2hNElgQ"
      }
    },
    {
      "cell_type": "code",
      "source": [
        "# 활용할 데이터 선택\n",
        "df = data[['원산지','가격','호수','칼로리','살찔까요']].copy()\n",
        "df.head()"
      ],
      "metadata": {
        "id": "ZEB7J511ElOy"
      },
      "execution_count": null,
      "outputs": []
    },
    {
      "cell_type": "code",
      "source": [
        "#판다스 활용한 원핫 인코딩   -> 단점 Train과 test는 데이터가 일치 해야되서 사이킷 런을 활용 하는 경우가 있다\n",
        "df=pd.get_dummies(df)\n",
        "df"
      ],
      "metadata": {
        "id": "rI-dIYbmFBIX"
      },
      "execution_count": null,
      "outputs": []
    },
    {
      "cell_type": "markdown",
      "source": [
        "#데이터 전처리 : 수치형 데이터\n",
        " 표준화(StandardScaler)\n",
        " - 평균이 0, 분산이 1인 표준정규분포로 변환\n",
        "\n",
        " z= (x - u) / 6"
      ],
      "metadata": {
        "id": "1-kkB9NIFGgl"
      }
    },
    {
      "cell_type": "code",
      "source": [
        "# 원핫인코딩된 데이터 \n",
        "df=pd.get_dummies(df)\n",
        "df"
      ],
      "metadata": {
        "id": "dMywG-6tFGRX"
      },
      "execution_count": null,
      "outputs": []
    },
    {
      "cell_type": "code",
      "source": [
        "# StanardScaler\n",
        "from sklearn.preprocessing import StandardScaler\n",
        "scaler = StandardScaler()\n",
        "scaler.fit_transform(df[['가격']])"
      ],
      "metadata": {
        "id": "Vzd_MANfFBF-"
      },
      "execution_count": null,
      "outputs": []
    },
    {
      "cell_type": "code",
      "source": [
        "#StandardScaler 여러 변수에 적용\n",
        "cols=['가격','호수','칼로리']\n",
        "scaler = StandardScaler()\n",
        "df[cols]= scaler.fit_transform(df[cols])\n",
        "df\n"
      ],
      "metadata": {
        "id": "KBC-H4qFE2eY"
      },
      "execution_count": null,
      "outputs": []
    },
    {
      "cell_type": "code",
      "source": [
        "# 피처 (컬럼)이름"
      ],
      "metadata": {
        "id": "NhF0jN7cFueA"
      },
      "execution_count": null,
      "outputs": []
    },
    {
      "cell_type": "markdown",
      "source": [
        "민맥스(MinMaxScaler)\n",
        "- 0~1 사이 값으로 변환(데이터 사이즈 축소)"
      ],
      "metadata": {
        "id": "LlCjZCIwH_xn"
      }
    },
    {
      "cell_type": "code",
      "source": [
        "# MinMaxScaler\n",
        "from sklearn.preprocessing import MinMaxScaler\n",
        "cols=['가격','호수','칼로리']\n",
        "scaler = MinMaxScaler()\n",
        "df[cols]= scaler.fit_transform(df[cols])\n",
        "df\n"
      ],
      "metadata": {
        "id": "ZVdcHMwjHB1S"
      },
      "execution_count": null,
      "outputs": []
    },
    {
      "cell_type": "markdown",
      "source": [
        "#사티킷런에서 제공하는 데이커 셋\n",
        "유방암데이터"
      ],
      "metadata": {
        "id": "9N_wtDP2JMEW"
      }
    },
    {
      "cell_type": "code",
      "source": [
        "# 사이킷런 데이터 불러오기\n",
        "from sklearn.datasets import load_breast_cancer\n",
        "dataset=load_breast_cancer()\n",
        "dataset"
      ],
      "metadata": {
        "id": "SnA7QuC8JRwG"
      },
      "execution_count": null,
      "outputs": []
    },
    {
      "cell_type": "code",
      "source": [
        "# 피처 이름 확인  /컬럼 내용\n",
        "dataset.feature_names"
      ],
      "metadata": {
        "id": "a0-uQhghJkFC"
      },
      "execution_count": null,
      "outputs": []
    },
    {
      "cell_type": "code",
      "source": [
        "# 타겟 확인  /레이블 값 .불류 \n",
        "dataset.target"
      ],
      "metadata": {
        "id": "7eI6bPPrJr_Q"
      },
      "execution_count": null,
      "outputs": []
    },
    {
      "cell_type": "code",
      "source": [
        "#데이터 확인  /2세트만\n",
        "dataset.data[:2]"
      ],
      "metadata": {
        "id": "JIWkWYBzJ_5O"
      },
      "execution_count": null,
      "outputs": []
    },
    {
      "cell_type": "code",
      "source": [
        "#데이터 프레임으로 만들기 array -> DataFrame 형태로\n",
        "cancer_df = pd.DataFrame(data=dataset.data , columns=dataset.feature_names)\n",
        "cancer_df "
      ],
      "metadata": {
        "id": "NHsIi4ZuKB1B"
      },
      "execution_count": null,
      "outputs": []
    },
    {
      "cell_type": "code",
      "source": [
        "# 타겟 추가하기\n",
        "cancer_df['target'] = dataset.target\n",
        "cancer_df.head()"
      ],
      "metadata": {
        "id": "zZF6Bz13K4fg"
      },
      "execution_count": null,
      "outputs": []
    },
    {
      "cell_type": "code",
      "source": [
        "# 데이터셋 확인(load_*)  사이킷런 데이터 셋 안에 들어 있는 데이터 /. load로 되어있는것은 불러올수 있음\n",
        "import sklearn.datasets\n",
        "sklearn.datasets.__all__"
      ],
      "metadata": {
        "id": "eUoLHUAmLEnu"
      },
      "execution_count": null,
      "outputs": []
    },
    {
      "cell_type": "code",
      "source": [
        "# 당뇨병 데이터 불러오기\n",
        "from sklearn.datasets import load_diabetes\n",
        "dataset = load_diabetes()"
      ],
      "metadata": {
        "id": "eBTwJ79BLiOv"
      },
      "execution_count": null,
      "outputs": []
    },
    {
      "cell_type": "code",
      "source": [
        "#데이터프레임으로 만들기\n",
        "diabetes_df = pd.DataFrame(data=dataset.data, columns=dataset.feature_names)\n",
        "diabetes_df.head()"
      ],
      "metadata": {
        "id": "4BC5UfyPMpC7"
      },
      "execution_count": null,
      "outputs": []
    },
    {
      "cell_type": "code",
      "source": [
        "#타겟 추가\n",
        "diabetes_df['taget'] = dataset.target\n",
        "diabetes_df.head()"
      ],
      "metadata": {
        "id": "TI6mLN-vM7mJ"
      },
      "execution_count": null,
      "outputs": []
    },
    {
      "cell_type": "markdown",
      "source": [
        "#머신러닝 : 분류\n",
        "검증데이터 분리"
      ],
      "metadata": {
        "id": "HUIRLhIZNMmM"
      }
    },
    {
      "cell_type": "code",
      "source": [
        "#검증데이터 분리\n",
        "from sklearn.model_selection import train_test_split\n",
        "x_train,x_test,y_train,y_test =train_test_split(\n",
        "    cancer_df.drop('target',axis=1),cancer_df['target'], test_size=0.3, random_state=1004)"
      ],
      "metadata": {
        "id": "swTftbXJNSHz"
      },
      "execution_count": null,
      "outputs": []
    },
    {
      "cell_type": "code",
      "source": [
        "#train 데이터 확인 (x)\n",
        "x_train.head()"
      ],
      "metadata": {
        "id": "rS-aqU2WRJEY"
      },
      "execution_count": null,
      "outputs": []
    },
    {
      "cell_type": "code",
      "source": [
        "#학습데이터 확인(y)\n",
        "y_train.head()"
      ],
      "metadata": {
        "id": "Xj1pzi7mRODx"
      },
      "execution_count": null,
      "outputs": []
    },
    {
      "cell_type": "code",
      "source": [
        "#데이터 크기\n",
        "x_train.shape,x_test.shape,y_train.shape,y_test.shape"
      ],
      "metadata": {
        "id": "csjyKKafRSoe"
      },
      "execution_count": null,
      "outputs": []
    },
    {
      "cell_type": "markdown",
      "source": [
        "의사결정나무(DecisionTree)"
      ],
      "metadata": {
        "id": "tICKd2x0RX4A"
      }
    },
    {
      "cell_type": "code",
      "source": [
        "# 머신러닝(분류)\n",
        "from sklearn.tree import DecisionTreeClassifier\n",
        "\n",
        "#모듈 선택\n",
        "model = DecisionTreeClassifier()\n",
        "\n",
        "#학습\n",
        "model.fit(x_train,y_train)\n",
        "\n",
        "#예측\n",
        "pred = model.predict(x_test)\n",
        "pred\n"
      ],
      "metadata": {
        "id": "hWM4k-ExRXIj"
      },
      "execution_count": null,
      "outputs": []
    },
    {
      "cell_type": "markdown",
      "source": [
        "평가(accuracy)"
      ],
      "metadata": {
        "id": "lv71Xj7GUBYd"
      }
    },
    {
      "cell_type": "code",
      "source": [
        "# 정확도 accuracy_score(실제값,예측값)\n",
        "from sklearn.metrics import accuracy_score\n",
        "accuracy_score(y_test,pred)"
      ],
      "metadata": {
        "id": "jXDp8pYXRXFu"
      },
      "execution_count": null,
      "outputs": []
    },
    {
      "cell_type": "markdown",
      "source": [
        "#머신러닝 : 회귀\n",
        ". 검증데이터 분리"
      ],
      "metadata": {
        "id": "LewpF8iiUtGA"
      }
    },
    {
      "cell_type": "code",
      "source": [
        "#데이터 로드\n",
        "from sklearn.datasets import load_diabetes\n",
        "dataset = load_diabetes()\n",
        "diabetes_df = pd.DataFrame(data=dataset.data , columns=dataset.feature_names)\n",
        "diabetes_df['target'] = dataset.target"
      ],
      "metadata": {
        "id": "RRRoSWsoRW6C"
      },
      "execution_count": null,
      "outputs": []
    },
    {
      "cell_type": "code",
      "source": [
        "#검증데이터 분리\n",
        "from sklearn.model_selection import train_test_split\n",
        "X_train, X_test, y_train, y_test = train_test_split(\n",
        "    diabetes_df.drop('target', axis=1), diabetes_df['target'], test_size=0.3, random_state=1004)\n"
      ],
      "metadata": {
        "id": "O9cfyjLBZOBS"
      },
      "execution_count": null,
      "outputs": []
    },
    {
      "cell_type": "code",
      "source": [
        "# train 데이터 확인(X)\n",
        "x_train.head"
      ],
      "metadata": {
        "id": "BJwXoUNDWUJg"
      },
      "execution_count": null,
      "outputs": []
    },
    {
      "cell_type": "code",
      "source": [
        "#학습데이터 확인(y)\n",
        "y_train.head()"
      ],
      "metadata": {
        "id": "vAs6QGHjRXCt"
      },
      "execution_count": null,
      "outputs": []
    },
    {
      "cell_type": "code",
      "source": [
        "#데이터 크기\n",
        "x_train.shape,x_test.shape,y_train.shape,y_test.shape"
      ],
      "metadata": {
        "id": "C8FLY9q2XJP9"
      },
      "execution_count": null,
      "outputs": []
    },
    {
      "cell_type": "markdown",
      "source": [
        "선형회귀"
      ],
      "metadata": {
        "id": "V-ZBiBzKXYZR"
      }
    },
    {
      "cell_type": "code",
      "source": [
        "# 머신러닝(회귀)\n",
        "from sklearn.linear_model import LinearRegression\n",
        "\n",
        "#모델 선택\n",
        "model = LinearRegression()\n",
        "\n",
        "#학습\n",
        "model.fit(X_train,y_train)\n",
        "\n",
        "#예측\n",
        "pred = model.predict(X_test)\n",
        "pred\n"
      ],
      "metadata": {
        "id": "AxPIyzP7XTpA"
      },
      "execution_count": null,
      "outputs": []
    },
    {
      "cell_type": "markdown",
      "source": [
        "평가 (Mse)"
      ],
      "metadata": {
        "id": "3ad3y9LnX0nL"
      }
    },
    {
      "cell_type": "code",
      "source": [
        "# 정확도 accuracy_score(실제값,예측값)\n",
        "from sklearn.metrics import mean_squared_error\n",
        "mean_squared_error(y_test,pred)"
      ],
      "metadata": {
        "id": "8zluB3waXyeg"
      },
      "execution_count": null,
      "outputs": []
    }
  ]
}