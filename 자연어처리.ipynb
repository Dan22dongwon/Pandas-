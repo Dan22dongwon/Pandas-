{
  "nbformat": 4,
  "nbformat_minor": 0,
  "metadata": {
    "colab": {
      "private_outputs": true,
      "provenance": [],
      "authorship_tag": "ABX9TyO2s68gZkzR662zRDajyaFx",
      "include_colab_link": true
    },
    "kernelspec": {
      "name": "python3",
      "display_name": "Python 3"
    },
    "language_info": {
      "name": "python"
    }
  },
  "cells": [
    {
      "cell_type": "markdown",
      "metadata": {
        "id": "view-in-github",
        "colab_type": "text"
      },
      "source": [
        "<a href=\"https://colab.research.google.com/github/Dan22dongwon/Pandas-sci-kit-learn/blob/main/%EC%9E%90%EC%97%B0%EC%96%B4%EC%B2%98%EB%A6%AC.ipynb\" target=\"_parent\"><img src=\"https://colab.research.google.com/assets/colab-badge.svg\" alt=\"Open In Colab\"/></a>"
      ]
    },
    {
      "cell_type": "markdown",
      "source": [
        "#자연어 처리\n",
        "- NLP(Natural Language Procewssing)\n",
        "- 사람이 사용하는 언어를 처리하고 해석\n"
      ],
      "metadata": {
        "id": "f05kCzKVgir0"
      }
    },
    {
      "cell_type": "markdown",
      "source": [
        "# 자연어 처리 기초"
      ],
      "metadata": {
        "id": "bo5Eocrziz-0"
      }
    },
    {
      "cell_type": "markdown",
      "source": [
        "# 형채소 분석기\n",
        "- Konlpy : 한국어 처리를 위한 형태소 분석기\n",
        "- 형태소 : 의미를 가지는 요소로서는 더 이상 분석할 수 없는 가장 작은 말의 단위"
      ],
      "metadata": {
        "id": "eZ-ngtj3jgZS"
      }
    },
    {
      "cell_type": "code",
      "source": [
        "# 라이브러리 불러오기\n",
        "import pandas as pd\n",
        "import warnings\n",
        "warnings.filterwarnings('ignore')"
      ],
      "metadata": {
        "id": "jezbeb6cizkg"
      },
      "execution_count": null,
      "outputs": []
    },
    {
      "cell_type": "code",
      "execution_count": null,
      "metadata": {
        "id": "2HTeg4WegW2w"
      },
      "outputs": [],
      "source": [
        "# konlpy 설치\n",
        "!pip install konlpy"
      ]
    },
    {
      "cell_type": "code",
      "source": [
        "# 라이브러리 불러오기 (okt)  okt 이외에도 한국어 형태소 관련 라이브러리가 있음\n",
        "import konlpy\n",
        "from konlpy.tag import Okt\n",
        "tokenizer = Okt()"
      ],
      "metadata": {
        "id": "TN1WuLwwkgVa"
      },
      "execution_count": null,
      "outputs": []
    },
    {
      "cell_type": "code",
      "source": [
        "# 토큰화 (형태소 단위)\n",
        "text = \"함께 탐험하며 성장하는 AI학교 AIFFEL\"\n",
        "tokenizer.morphs(text)"
      ],
      "metadata": {
        "id": "hfaK653rk8yp"
      },
      "execution_count": null,
      "outputs": []
    },
    {
      "cell_type": "code",
      "source": [
        "# 토큰화 (명사만 추출)\n",
        "tokenizer.nouns(text)"
      ],
      "metadata": {
        "id": "gP1cBfb6lY1_"
      },
      "execution_count": null,
      "outputs": []
    },
    {
      "cell_type": "code",
      "source": [
        "# 토큰화 (품사, 태깅)\n",
        "tokenizer.pos(text)"
      ],
      "metadata": {
        "id": "jkKq44rzlgEn"
      },
      "execution_count": null,
      "outputs": []
    },
    {
      "cell_type": "markdown",
      "source": [
        "# CountVextorizer"
      ],
      "metadata": {
        "id": "WYcUNwvtlrTK"
      }
    },
    {
      "cell_type": "code",
      "source": [
        "# CountVextorizer\n",
        "from sklearn.feature_extraction.text import CountVectorizer\n",
        "vect = CountVectorizer()"
      ],
      "metadata": {
        "id": "-Uy2OTrulqMI"
      },
      "execution_count": null,
      "outputs": []
    },
    {
      "cell_type": "code",
      "source": [
        "# 단어 토큰화 (Okt)\n",
        "words = tokenizer.morphs(text)"
      ],
      "metadata": {
        "id": "Agv6bJoWm6NH"
      },
      "execution_count": null,
      "outputs": []
    },
    {
      "cell_type": "code",
      "source": [
        "# 데이터 학습\n",
        "vect.fit(words)"
      ],
      "metadata": {
        "id": "S1fMBXDinPkF"
      },
      "execution_count": null,
      "outputs": []
    },
    {
      "cell_type": "code",
      "source": [
        "# 학습된 어휘\n",
        "vect.get_feature_names_out()"
      ],
      "metadata": {
        "id": "izF6nFa0nb-V"
      },
      "execution_count": null,
      "outputs": []
    },
    {
      "cell_type": "code",
      "source": [
        "# 단어 사전\n",
        "vect.vocabulary_"
      ],
      "metadata": {
        "id": "62lsSEEOnoVL"
      },
      "execution_count": null,
      "outputs": []
    },
    {
      "cell_type": "code",
      "source": [
        "# 단어 사전 크기\n",
        "len(vect.vocabulary_)"
      ],
      "metadata": {
        "id": "7xJXnXFTnvda"
      },
      "execution_count": null,
      "outputs": []
    },
    {
      "cell_type": "code",
      "source": [
        "# 인코딩\n",
        "df_t = vect.transform(words)"
      ],
      "metadata": {
        "id": "7twXQGJmn7dN"
      },
      "execution_count": null,
      "outputs": []
    },
    {
      "cell_type": "code",
      "source": [
        "# 인코딩 데이커 Matrix\n",
        "df_t.toarray()"
      ],
      "metadata": {
        "id": "3rucluiMoFyQ"
      },
      "execution_count": null,
      "outputs": []
    },
    {
      "cell_type": "code",
      "source": [
        "#어휘와 피처 (데이터 프레임)\n",
        "pd.DataFrame(df_t.toarray(), columns=vect.get_feature_names_out())"
      ],
      "metadata": {
        "id": "AwMiQTkPoYeQ"
      },
      "execution_count": null,
      "outputs": []
    },
    {
      "cell_type": "code",
      "source": [
        "# test\n",
        "test = \"AI 공부하며 함께 성장해요!\""
      ],
      "metadata": {
        "id": "lWkyhDSxqCVK"
      },
      "execution_count": null,
      "outputs": []
    },
    {
      "cell_type": "code",
      "source": [
        "# 단어 토큰화 (Okt)\n",
        "words = tokenizer.morphs(test)\n",
        "words"
      ],
      "metadata": {
        "id": "dloi6v1hqJxY"
      },
      "execution_count": null,
      "outputs": []
    },
    {
      "cell_type": "code",
      "source": [
        "# 인코딩 데이터 Matrix\n",
        "test_t = vect.transform(words)\n",
        "test_t.toarray()"
      ],
      "metadata": {
        "id": "gQj_GHNrqTak"
      },
      "execution_count": null,
      "outputs": []
    },
    {
      "cell_type": "code",
      "source": [
        "# 어휘와 피처 (데이터 프레임)\n",
        "pd.DataFrame(df_t.toarray(), columns=vect.get_feature_names_out())"
      ],
      "metadata": {
        "id": "IwPQtAZkqzDx"
      },
      "execution_count": null,
      "outputs": []
    },
    {
      "cell_type": "markdown",
      "source": [
        "# TfidfVextorizer"
      ],
      "metadata": {
        "id": "BhNgmVaaslSF"
      }
    },
    {
      "cell_type": "code",
      "source": [
        "# tf_idf\n",
        "from sklearn.feature_extraction.text import TfidfVectorizer"
      ],
      "metadata": {
        "id": "zGaHJF9jsp7h"
      },
      "execution_count": null,
      "outputs": []
    },
    {
      "cell_type": "code",
      "source": [
        "#tf_idf 활용 어휘 사전 구축\n",
        "vect = TfidfVectorizer()\n",
        "words = tokenizer.morphs(text)\n",
        "vect.fit(words)\n",
        "vect.vocabulary_"
      ],
      "metadata": {
        "id": "YswzLPEptA3j"
      },
      "execution_count": null,
      "outputs": []
    },
    {
      "cell_type": "code",
      "source": [
        "# 인코딩된 데이터 Matrix\n",
        "vect.transform(words).toarray()"
      ],
      "metadata": {
        "id": "wigVeX8Tugcd"
      },
      "execution_count": null,
      "outputs": []
    },
    {
      "cell_type": "markdown",
      "source": [
        "# 감성 분석\n",
        " \n",
        " 문제정의 -> 탐색적 데이터 분석EDA -> 데이터 전처리 (토큰화,어휘 사전 구축, 인코딩) -> 모델학습 -> 예측(긍정,부정)\n",
        "\n"
      ],
      "metadata": {
        "id": "yGIbGO56uw7F"
      }
    },
    {
      "cell_type": "markdown",
      "source": [
        "- 데이터 불러오기"
      ],
      "metadata": {
        "id": "wECfMGkOv9Dq"
      }
    },
    {
      "cell_type": "code",
      "source": [
        "# 라이브러리 불러오기\n",
        "import pandas as pd"
      ],
      "metadata": {
        "id": "WSu93mojvNjD"
      },
      "execution_count": null,
      "outputs": []
    },
    {
      "cell_type": "code",
      "source": [
        "# 데이터 불러오기\n",
        "url = \"https://raw.githubusercontent.com/e9t/nsmc/master/ratings_train.txt\"\n",
        "df = pd.read_csv(url, sep=\"\\t\")"
      ],
      "metadata": {
        "id": "dtFtqpSlvOFZ"
      },
      "execution_count": null,
      "outputs": []
    },
    {
      "cell_type": "markdown",
      "source": [
        "- EDA 및 데이터 전처리"
      ],
      "metadata": {
        "id": "nDFWomQdxWsn"
      }
    },
    {
      "cell_type": "code",
      "source": [
        "# 데이터 샘플\n",
        "df.head()"
      ],
      "metadata": {
        "id": "ga2I0R_hvOC9"
      },
      "execution_count": null,
      "outputs": []
    },
    {
      "cell_type": "code",
      "source": [
        "#데이터 크기\n",
        "df.shape"
      ],
      "metadata": {
        "id": "w7JQ0-5KvN_0"
      },
      "execution_count": null,
      "outputs": []
    },
    {
      "cell_type": "code",
      "source": [
        "#타겟 확인\n",
        "df['label'].value_counts()"
      ],
      "metadata": {
        "id": "gqr9WduMvN5o"
      },
      "execution_count": null,
      "outputs": []
    },
    {
      "cell_type": "code",
      "source": [
        "# 결측치\n",
        "df.isnull().sum()"
      ],
      "metadata": {
        "id": "gQYpGOtnx787"
      },
      "execution_count": null,
      "outputs": []
    },
    {
      "cell_type": "code",
      "source": [
        "# 결측치 ㅐ삭제\n",
        "print(df.shape)\n",
        "df = df.dropna()\n",
        "print(df.shape)"
      ],
      "metadata": {
        "id": "2kxZ9IcAyYz0"
      },
      "execution_count": null,
      "outputs": []
    },
    {
      "cell_type": "code",
      "source": [
        "# 피처 엔지니어링(문장의 길이)\n",
        "df['len'] = df['document'].apply(len)\n",
        "df.head()"
      ],
      "metadata": {
        "id": "P0lLRSUyymVL"
      },
      "execution_count": null,
      "outputs": []
    },
    {
      "cell_type": "code",
      "source": [
        "# len 시각화 (label == 0)\n",
        "import matplotlib.pyplot as plt\n",
        "df[df.label==0]['len'].plot(kind='hist')"
      ],
      "metadata": {
        "id": "zYGLocs2zD3f"
      },
      "execution_count": null,
      "outputs": []
    },
    {
      "cell_type": "code",
      "source": [
        "# len 시각화 (label == 1)\n",
        "import matplotlib.pyplot as plt\n",
        "df[df.label==1]['len'].plot(kind='hist')"
      ],
      "metadata": {
        "id": "ZOkasSa8z2eB"
      },
      "execution_count": null,
      "outputs": []
    },
    {
      "cell_type": "code",
      "source": [
        "# 데이터 샘플링 df[: 1000]\n",
        "df = df[:1000]\n",
        "df.shape"
      ],
      "metadata": {
        "id": "AWRbFvgs0BhB"
      },
      "execution_count": null,
      "outputs": []
    },
    {
      "cell_type": "code",
      "source": [
        "# 토큰화\n",
        "vect = CountVectorizer(tokenizer=tokenizer.morphs)\n",
        "vectors = vect.fit_transform(df['document'])"
      ],
      "metadata": {
        "id": "YqK8JRHy0Njp"
      },
      "execution_count": null,
      "outputs": []
    },
    {
      "cell_type": "markdown",
      "source": [
        "- 머신러닝"
      ],
      "metadata": {
        "id": "X3T0s1461KWh"
      }
    },
    {
      "cell_type": "code",
      "source": [
        "# 머신러닝 -> 교차검증 (f1)\n",
        "from sklearn.ensemble import RandomForestClassifier\n",
        "from sklearn.model_selection import cross_val_score\n",
        "\n",
        "model = RandomForestClassifier(random_state=2022)\n",
        "cross_val_score(model, vectors, df['label'], scoring='f1', cv=5).mean()"
      ],
      "metadata": {
        "id": "QdCkDTMd1JNN"
      },
      "execution_count": null,
      "outputs": []
    },
    {
      "cell_type": "markdown",
      "source": [
        "# 자연어 전처리\n",
        "- 어휘사전 구축\n",
        "  - 00% 이상 나타나는 단어 무시\n",
        "  - 최소 N개의 문장에만 나타나는 단어만 유지\n",
        "\n",
        "- 불용어(stopword)\n",
        "  - 큰 의미가 없는 단어\n",
        "  - 예) 은,는,이,가,을.여기,저기\n",
        "\n",
        "- 띄어쓰기\n",
        "_ 반복되는 글자 정리\n",
        "- 맞춤법 검사"
      ],
      "metadata": {
        "id": "iEI32lR9vMaY"
      }
    },
    {
      "cell_type": "markdown",
      "source": [
        "1. 어휘 사전 구축"
      ],
      "metadata": {
        "id": "gh62CZb64DO2"
      }
    },
    {
      "cell_type": "code",
      "source": [
        "# 토큰화(max_df) N개 보다 큰 단어 수 무시\n",
        "vect = CountVectorizer(tokenizer=tokenizer.morphs, max_df=10)\n",
        "vectors = vect.fit_transform(df['document'])\n",
        "model = RandomForestClassifier(random_state=2022)\n",
        "cross_val_score(model, vectors, df['label'], scoring='f1', cv=5).mean()"
      ],
      "metadata": {
        "id": "3hhH757t4C4w"
      },
      "execution_count": null,
      "outputs": []
    },
    {
      "cell_type": "code",
      "source": [
        "# 토큰화 (min_df) N개 보다 작은 단어 수 무시 \n",
        "vect = CountVectorizer(tokenizer=tokenizer.morphs, min_df=1)\n",
        "vectors = vect.fit_transform(df['document'])\n",
        "model = RandomForestClassifier(random_state=2022)\n",
        "cross_val_score(model, vectors, df['label'], scoring='f1', cv=5).mean()"
      ],
      "metadata": {
        "id": "X7A3iGUa3K6s"
      },
      "execution_count": null,
      "outputs": []
    },
    {
      "cell_type": "markdown",
      "source": [
        " 2. 불용어(stopword)"
      ],
      "metadata": {
        "id": "tqx0GmG2UZeT"
      }
    },
    {
      "cell_type": "code",
      "source": [
        "# stop_words\n",
        "text = \"함께 탐험하며 성장하는 AI 학교 AIFFEL\"\n",
        "stop_words = ['함께','ai']\n",
        "vect = CountVectorizer(stop_words = stop_words)\n",
        "words = tokenizer.morphs(text)\n",
        "vect.fit(words)\n",
        "vect.vocabulary_"
      ],
      "metadata": {
        "id": "EmHHW5DiUcoP"
      },
      "execution_count": null,
      "outputs": []
    },
    {
      "cell_type": "markdown",
      "source": [
        "3. 띄어쓰기\n",
        "  - 더 자세히 : https://github.com/haven-jeon/PykoSpacing\n",
        "  https://github.com/jungin500/py-hanspell\n",
        "\n",
        "  오류 관련 정보 : https://github.com/ssut/py-hanspell/issues/31"
      ],
      "metadata": {
        "id": "oSlxHeAzVH9u"
      }
    },
    {
      "cell_type": "code",
      "source": [
        "# Spacing 설치\n",
        "!pip install git+https://github.com/jungin500/py-hanspell"
      ],
      "metadata": {
        "id": "EdL3sVbYVG9b"
      },
      "execution_count": null,
      "outputs": []
    },
    {
      "cell_type": "code",
      "source": [
        "# 띄어쓰기\n",
        "\n",
        "from hanspell import spell_checker\n",
        "\n",
        "text = \"함께탐험하며성장하는AI학교AIFFEL\" \n",
        "result = spell_checker.check(text)\n",
        "corrected_text = result.checked\n",
        "\n",
        "print(corrected_text)"
      ],
      "metadata": {
        "id": "qvquy3fPVwTz"
      },
      "execution_count": null,
      "outputs": []
    },
    {
      "cell_type": "markdown",
      "source": [
        "3. 반복되는 글자 정리\n",
        " - 더 자세히 : https://github.com/lovit/soynlp"
      ],
      "metadata": {
        "id": "4BdOXYyhWOro"
      }
    },
    {
      "cell_type": "code",
      "source": [
        "# soynlp 설치\n",
        "!pip install soynlp"
      ],
      "metadata": {
        "id": "OBEGGnOMWuol"
      },
      "execution_count": null,
      "outputs": []
    },
    {
      "cell_type": "code",
      "source": [
        "# 댓글 데이터에 등장하는 반복되는 이모티콘의 정리\n",
        "from soynlp.normalizer import *\n",
        "emoticon_normalize('하하하하하ㅋㅋㅋㅋㅋ호호호호호ㅠㅠㅠㅠㅜㅜㅜㅜㅜ', num_repeats=3)"
      ],
      "metadata": {
        "id": "cgFSbgoWW3My"
      },
      "execution_count": null,
      "outputs": []
    },
    {
      "cell_type": "markdown",
      "source": [
        "4. 맞춤법 검사기\n",
        "  - 더 자세히 : https://github.com/ssut/py-hanspell"
      ],
      "metadata": {
        "id": "ccnGdgEpYBfS"
      }
    },
    {
      "cell_type": "code",
      "source": [
        "# py-hanspell 설치\n",
        "!pip install git+https://github.com/ssut/py-hanspell.git"
      ],
      "metadata": {
        "id": "q7rPcQzgYpUX"
      },
      "execution_count": null,
      "outputs": []
    },
    {
      "cell_type": "code",
      "source": [
        "# 맞춤법 검사\n",
        "from hanspell import spell_checker\n",
        "text = '알파고 이전, 2015년부터 만들 어진 최초의AI 커뮤니티 모두의연구소,학연,지연,모두연이라는 말이나올마큼 AI의 보금자리로서 중요한 역할을 하고있다'"
      ],
      "metadata": {
        "id": "Mzwb4tKkacGJ"
      },
      "execution_count": null,
      "outputs": []
    },
    {
      "cell_type": "code",
      "source": [
        "# 수정된 문장\n",
        "result = spell_checker.check(text)"
      ],
      "metadata": {
        "id": "CAVlJ8bza0Zf"
      },
      "execution_count": null,
      "outputs": []
    },
    {
      "cell_type": "code",
      "source": [
        "result.checked"
      ],
      "metadata": {
        "id": "zuje9XmWbSMV"
      },
      "execution_count": null,
      "outputs": []
    }
  ]
}