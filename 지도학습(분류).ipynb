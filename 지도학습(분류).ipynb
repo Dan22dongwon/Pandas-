{
  "nbformat": 4,
  "nbformat_minor": 0,
  "metadata": {
    "colab": {
      "private_outputs": true,
      "provenance": [],
      "authorship_tag": "ABX9TyNRzX3adOgA8eIvescxSs1K",
      "include_colab_link": true
    },
    "kernelspec": {
      "name": "python3",
      "display_name": "Python 3"
    },
    "language_info": {
      "name": "python"
    }
  },
  "cells": [
    {
      "cell_type": "markdown",
      "metadata": {
        "id": "view-in-github",
        "colab_type": "text"
      },
      "source": [
        "<a href=\"https://colab.research.google.com/github/Dan22dongwon/Pandas-sci-kit-learn/blob/main/%EC%A7%80%EB%8F%84%ED%95%99%EC%8A%B5(%EB%B6%84%EB%A5%98).ipynb\" target=\"_parent\"><img src=\"https://colab.research.google.com/assets/colab-badge.svg\" alt=\"Open In Colab\"/></a>"
      ]
    },
    {
      "cell_type": "markdown",
      "source": [
        "#***노드5. 지도학습(분류)***\n",
        "- 분류모델\n",
        ">의사결정나무\n",
        " <br/>랜덤포레스트\n",
        " <br/>xgboost\n",
        "- 교차검증\n",
        "- 평가(분류)"
      ],
      "metadata": {
        "id": "q8ksTahXanpV"
      }
    },
    {
      "cell_type": "code",
      "execution_count": null,
      "metadata": {
        "id": "DpCF91b5EFcZ"
      },
      "outputs": [],
      "source": [
        "#라이브러리 불러오기\n",
        "import pandas as pd\n",
        "from sklearn.model_selection import train_test_split\n",
        "from sklearn.metrics import accuracy_score"
      ]
    },
    {
      "cell_type": "markdown",
      "source": [
        "#데이터 불러오기"
      ],
      "metadata": {
        "id": "N_lnI-l2bUag"
      }
    },
    {
      "cell_type": "code",
      "source": [
        "# 데이터 생성\n",
        "from sklearn.datasets import load_breast_cancer\n",
        "\n",
        "def make_dataset():\n",
        "  iris = load_breast_cancer()\n",
        "  df = pd.DataFrame(iris.data, columns=iris.feature_names)\n",
        "  df['target']=iris.target\n",
        "  X_train, X_test, y_train, y_test = train_test_split(\n",
        "      df.drop('target', axis=1),df['target'],test_size=0.5, random_state=1004 )\n",
        "  return X_train,X_test,y_train,y_test\n",
        "\n",
        "X_train,X_test,y_train,y_test = make_dataset()\n",
        "X_train.shape, X_test.shape, y_train.shape, y_test.shape"
      ],
      "metadata": {
        "id": "PEJc87kPbVKL"
      },
      "execution_count": null,
      "outputs": []
    },
    {
      "cell_type": "code",
      "source": [
        "# 타겟 확인\n",
        "y_train.value_counts()"
      ],
      "metadata": {
        "id": "IU_1YM_wbVHl"
      },
      "execution_count": null,
      "outputs": []
    },
    {
      "cell_type": "code",
      "source": [
        "# 의사결정 나무\n",
        "from sklearn.tree import DecisionTreeClassifier\n",
        "model = DecisionTreeClassifier(random_state=-0)\n",
        "model.fit(X_train,y_train)\n",
        "pred=model.predict(X_test)\n",
        "accuracy_score(y_test,pred)"
      ],
      "metadata": {
        "id": "VYhGCG8ubVEO"
      },
      "execution_count": null,
      "outputs": []
    },
    {
      "cell_type": "markdown",
      "source": [
        "#의사결정 나무 하이퍼파라미터\n",
        "- criterion(기본값 gini): 불순도 지표(또는 엔트로피 불순도 entropy)\n",
        "- max_depth(기본값 None): 최대 한도 깊이\n",
        "- min_samples_split(기본값2): 자식 노드를 갖기 위한 최소한의 데이터 수\n",
        "- min_samples_leaf(기본값1): 리프 노드가 되기 위한 최소 샘플 수"
      ],
      "metadata": {
        "id": "muxUGap1ehdj"
      }
    },
    {
      "cell_type": "code",
      "source": [
        "# 의사결정 나무 하이퍼파라미터\n",
        "from sklearn.tree import DecisionTreeClassifier\n",
        "model = DecisionTreeClassifier(\n",
        "    criterion ='entropy,\n",
        "    max_depth=4,\n",
        "    min_samples_split=4, \n",
        "    min_samples_leaf=2,\n",
        "    random_state=0)     #튜닝 값 조정하여 사용 가능 max_depth=5\n",
        "model.fit(X_train,y_train)\n",
        "pred = model.predict(X_test)\n",
        "accuracy_score(y_test,pred)"
      ],
      "metadata": {
        "id": "xE7Tou_bbU6t"
      },
      "execution_count": null,
      "outputs": []
    },
    {
      "cell_type": "markdown",
      "source": [
        "#랜덤포레스트\n",
        "- 지도학습 알고리즘(분류,회귀)\n",
        "- 여러개의 의사결정 트리로 구성\n",
        "- 앙상블 방법 중 배깅(bagging) 방식\n",
        "- 부트스트랩 샘플링 (데이터셋 중복 허용)\n",
        "- 최종 다수결 투표\n",
        " 앙상블\n",
        "> *배깅: 같은 알고리즘으로 여러 모델을 만들어 분류함 (랜덤포레스트) \n",
        "<br/> *부스팅 : 학습과 예측을 하면서 가중치 반영(xboost)"
      ],
      "metadata": {
        "id": "j3zbPkCagL7H"
      }
    },
    {
      "cell_type": "code",
      "source": [
        "# 랜덤포레스트\n",
        "from sklearn.ensemble import RandomForestClassifier\n",
        "model = RandomForestClassifier(\n",
        "    random_state=0\n",
        ")"
      ],
      "metadata": {
        "id": "8ALkWEhKgJ_P"
      },
      "execution_count": null,
      "outputs": []
    },
    {
      "cell_type": "markdown",
      "source": [
        "# 랜덤포레스트 하이퍼파라미터\n",
        "- n_estimators[](기본값 100) : 트리의 수\n",
        "- criterion(기본값 gini) : 불순도 지표\n",
        "- max_depth(기본값 None) : 최대 한도 깊이\n",
        "- min_samples_split(기본값 2) : 자식 노드를 갖기 위한 최소한의 데이터 수\n",
        "- min_samples_leaf(기본값 1) : 리프노드가 되기 위한 최소 샘플 수"
      ],
      "metadata": {
        "id": "dM3VQGJ5qYOo"
      }
    },
    {
      "cell_type": "code",
      "source": [
        "from sklearn.ensemble import RandomForestClassifier\n",
        "model = RandomForestClassifier(\n",
        "    n_estimators=400,\n",
        "    max_depth=3,\n",
        "    criterion = 'gini',\n",
        "    min_samples_split = 4,\n",
        "    min_samples_leaf =3,\n",
        "    random_state=0\n",
        ")\n",
        "model.fit(X_train,y_train)\n",
        "pred = model.predict(X_test)\n",
        "accuracy_score(y_test, pred)"
      ],
      "metadata": {
        "id": "k3O7BxzLmw79"
      },
      "execution_count": null,
      "outputs": []
    },
    {
      "cell_type": "markdown",
      "source": [
        "# XGNBoost\n",
        "- eXtreme Gradient Boosting(익스트림 그레이던트 부스팅)\n",
        "- 캐글(글로벌 AI 경진대회) 뛰어난 성능을 보이면서 인기가 높아짐"
      ],
      "metadata": {
        "id": "58smZIFGtBuu"
      }
    },
    {
      "cell_type": "code",
      "source": [
        "# xqboost\n",
        "from xgboost import XGBClassifier\n",
        "model = XGBClassifier(random_state=0, use_label_encoder=False, eval_metric='logloss')\n",
        "model.fit(X_train,y_train)\n",
        "pred = model.predict(X_test)\n",
        "accuracy_score(y_test,pred)"
      ],
      "metadata": {
        "id": "B7aWAB6KsMAX"
      },
      "execution_count": null,
      "outputs": []
    },
    {
      "cell_type": "markdown",
      "source": [
        "- booster(기본값 gbtree): 부스팅 알고리즘(또는 dart,gblinear)\n",
        "- objective(기본값 binary:logistic): 이진분류(다중분류:multi:softmax)\n",
        "- max_depth(기본값 6): 최대 한도 깊이\n",
        "- learning_rate(기본값 0.1): 학습률\n",
        "- n_estimators(기본값100) : 트리의 수\n",
        "- subsample(기본값1): 훈련 샘플 개수의 비율\n",
        "- colsample_bytree(기본값 1): 특성 개수의 비율\n",
        "- n_jobs(기본값1) : 사용 코어 수 (-1: 모든 코어를 다 사용)"
      ],
      "metadata": {
        "id": "opuq0vvHuYfZ"
      }
    },
    {
      "cell_type": "markdown",
      "source": [
        "# xgboost 하이퍼파라미터"
      ],
      "metadata": {
        "id": "BVlgLBPRv1Hb"
      }
    },
    {
      "cell_type": "code",
      "source": [
        "# xgboost 하이퍼파라미터\n",
        "from xgboost import XGBClassifier\n",
        "model = XGBClassifier(\n",
        "    random_state=0, use_label_encoder=False, eval_metric='logloss',\n",
        "    max_depth =4,\n",
        "    booster = 'gbtree',\n",
        "    objective = 'binary:logistic',\n",
        "    learning_rate = 0.05,\n",
        "    n_estimators = 500,\n",
        "    subsample = 1,\n",
        "    colsample_bytree =1,\n",
        "    n_jobs = -1\n",
        ")\n",
        "# - booster(기본값 gbtree): 부스팅 알고리즘(또는 dart,gblinear)\n",
        "# - objective(기본값 binary:logistic): 이진분류(다중분류:multi:softmax)\n",
        "# - max_depth(기본값 6): 최대 한도 깊이\n",
        "# - learning_rate(기본값 0.1): 학습률\n",
        "# - n_estimators(기본값100) : 트리의 수\n",
        "# - subsample(기본값1): 훈련 샘플 개수의 비율\n",
        "# - colsample_bytree(기본값 1): 특성 개수의 비율\n",
        "# - n_jobs(기본값1) : 사용 코어 수 (-1: 모든 코어를 다 사용)\n",
        "\n",
        "model.fit(X_train,y_train)\n",
        "pred = model.predict(X_test)\n",
        "accuracy_score(y_test,pred)\n",
        "#0.9543859649122807"
      ],
      "metadata": {
        "id": "-740nfewv0R5"
      },
      "execution_count": null,
      "outputs": []
    },
    {
      "cell_type": "code",
      "source": [
        "# 조기 종료\n",
        "from xgboost import XGBClassifier\n",
        "model = XGBClassifier(\n",
        "    random_state=0, use_label_encoder=False, eval_metric='logloss',\n",
        "    learning_rate = 0.05,\n",
        "    n_estimators = 500,\n",
        ")\n",
        "model.fit(X_train,y_train)\n",
        "pred = model.predict(X_test)\n",
        "accuracy_score(y_test,pred)"
      ],
      "metadata": {
        "id": "VIyq7HDc627Z"
      },
      "execution_count": null,
      "outputs": []
    },
    {
      "cell_type": "code",
      "source": [
        "#데이터셋 로드\n",
        "from xgboost import XGBClassifier\n",
        "model = XGBClassifier(\n",
        "    random_state=0, use_label_encoder=False, eval_metric='logloss',\n",
        "    learning_rate = 0.05,\n",
        "    n_estimators = 500,\n",
        ")\n",
        "eval_set = [((X_test, y_test))]\n",
        "model.fit(X_train,y_train, eval_set = eval_set, early_stopping_rounds = 10)\n",
        "pred = model.predict(X_test)\n",
        "accuracy_score(y_test,pred)"
      ],
      "metadata": {
        "id": "IG4aiWwO6gDs"
      },
      "execution_count": null,
      "outputs": []
    },
    {
      "cell_type": "markdown",
      "source": [
        "#교차검증\n",
        "Kfold\n",
        "- 일반적으로 사용되는 교차 검증 기법"
      ],
      "metadata": {
        "id": "DR6OWLDd3VI6"
      }
    },
    {
      "cell_type": "code",
      "source": [
        "def make_dataset2():\n",
        "    bc = load_breast_cancer()\n",
        "    df = pd.DataFrame(bc.data, columns=bc.feature_names)\n",
        "    df['target'] = bc.target\n",
        "    return df.drop('target', axis=1), df['target']\n",
        "X, y = make_dataset2()"
      ],
      "metadata": {
        "id": "T1YyMfHfMISO"
      },
      "execution_count": null,
      "outputs": []
    },
    {
      "cell_type": "code",
      "source": [
        "#Kfold\n",
        "from sklearn.model_selection import KFold\n",
        "model = DecisionTreeClassifier(random_state=0)\n",
        "\n",
        "kfold = KFold(n_splits=5)\n",
        "for train_idx, test_idx in kfold.split(X):\n",
        "    X_train, X_test = X.iloc[train_idx], X.iloc[test_idx]\n",
        "    y_train, y_test = y.iloc[train_idx], y.iloc[test_idx]\n",
        "    \n",
        "    model.fit(X_train,y_train)\n",
        "    pred = model.predict(X_test)\n",
        "    print(accuracy_score(y_test,pred))"
      ],
      "metadata": {
        "id": "lC8Dcw9E7qkB"
      },
      "execution_count": null,
      "outputs": []
    },
    {
      "cell_type": "markdown",
      "source": [
        "StratifiedKfold\n",
        "- 불균형한 타겟 비율을 가진 데이터가 한쪽으로 치우치는 것을 방지"
      ],
      "metadata": {
        "id": "020cyUaOHlRK"
      }
    },
    {
      "cell_type": "code",
      "source": [
        "def make_dataset2():\n",
        "    bc = load_breast_cancer()\n",
        "    df = pd.DataFrame(bc.data, columns=bc.feature_names)\n",
        "    df['target'] = bc.target\n",
        "    return df.drop('target', axis=1), df['target']\n",
        "X, y = make_dataset2()"
      ],
      "metadata": {
        "id": "F8y3SK6yLZ6d"
      },
      "execution_count": null,
      "outputs": []
    },
    {
      "cell_type": "code",
      "source": [
        "# Stratified Kfold\n",
        "from sklearn.model_selection import StratifiedKFold\n",
        "model = DecisionTreeClassifier(random_state=0)\n",
        "\n",
        "kfold = StratifiedKFold(n_splits=5)\n",
        "for train_idx, test_idx in kfold.split(X,y):\n",
        "    X_train, X_test = X.iloc[train_idx], X.iloc[test_idx]\n",
        "    y_train, y_test = y.iloc[train_idx], y.iloc[test_idx]\n",
        "    \n",
        "    model.fit(X_train,y_train)\n",
        "    pred = model.predict(X_test)\n",
        "    print(accuracy_score(y_test,pred))"
      ],
      "metadata": {
        "id": "K0VSho-ZHkZW"
      },
      "execution_count": null,
      "outputs": []
    },
    {
      "cell_type": "markdown",
      "source": [
        "사이킷런 교차검증\n",
        "- 사이킷런 내부 API를 통해 fit(학습) - predic(예측) - evaluation(평가)"
      ],
      "metadata": {
        "id": "K1DFOGb2HyZs"
      }
    },
    {
      "cell_type": "code",
      "source": [
        "#교차검증\n",
        "from sklearn.model_selection import cross_val_score\n",
        "scores = cross_val_score(model,X,y,cv=3)\n",
        "scores"
      ],
      "metadata": {
        "id": "6aLnxaIZICVs"
      },
      "execution_count": null,
      "outputs": []
    },
    {
      "cell_type": "code",
      "source": [
        "#평균 점수\n",
        "scores.mean()"
      ],
      "metadata": {
        "id": "aiO0_hBSIEp7"
      },
      "execution_count": null,
      "outputs": []
    },
    {
      "cell_type": "code",
      "source": [
        "# 교차검증 Stratified Kfold #쉽게쓰는방법\n",
        "kfold = StratifiedKFold(n_splits=5)\n",
        "scores = cross_val_score(model,X,y,cv=kfold)\n",
        "scores"
      ],
      "metadata": {
        "id": "0cLHRjDNIGl1"
      },
      "execution_count": null,
      "outputs": []
    },
    {
      "cell_type": "code",
      "source": [
        "# 평균점수\n",
        "scores.mean()"
      ],
      "metadata": {
        "id": "6u78iJ8lLSny"
      },
      "execution_count": null,
      "outputs": []
    },
    {
      "cell_type": "markdown",
      "source": [
        "#평가(분류)\n",
        "  - 정확도(Accuracy) : 실제값과 예측값이 일치 비율\n",
        "  - 정밀도(precision) : 양성이라고 예측한 값중 실제 양성인 값(암이라고 예측 한  값 중 실제 암일 확률\n",
        "  - 재현율(recall) : 실제 양성 값 중 양성으로 예측한 값(실제 암인 값 중 예측도 암인 확률)\n",
        "  - F1 : 정밀도와 재현율 조화 평균\n",
        "  - ROC-AUC\n",
        "   >ROC: 참 양성 비율(True Positive Rate)에 대한 거짓 양성 비율(Rase Positive Rate) 곡선\n",
        "   ><br/>AUC : ROC 곡선 면적 아래 (완벽하게 분류되면 AUC가 1임)\n",
        "\n"
      ],
      "metadata": {
        "id": "Y8DuzP-2Pp1J"
      }
    },
    {
      "cell_type": "code",
      "source": [
        "# 정확도\n",
        "from sklearn.metrics import accuracy_score\n",
        "accuracy_score(y_test,pred)\n"
      ],
      "metadata": {
        "id": "fSMo4SKDQrwf"
      },
      "execution_count": null,
      "outputs": []
    },
    {
      "cell_type": "code",
      "source": [
        "# 정밀도\n",
        "from sklearn.metrics import precision_score\n",
        "precision_score(y_test,pred)\n"
      ],
      "metadata": {
        "id": "NBM41wdmQ9hU"
      },
      "execution_count": null,
      "outputs": []
    },
    {
      "cell_type": "code",
      "source": [
        "#재현율\n",
        "from sklearn.metrics import recall_score\n",
        "recall_score(y_test,pred)"
      ],
      "metadata": {
        "id": "-AEU5oFBQ-Im"
      },
      "execution_count": null,
      "outputs": []
    },
    {
      "cell_type": "code",
      "source": [
        "#f1 :정밀도와 재현율 조화 평균\n",
        "from sklearn.metrics import f1_score\n",
        "f1_score(y_test,pred)"
      ],
      "metadata": {
        "id": "Zin604nwQ93y"
      },
      "execution_count": null,
      "outputs": []
    },
    {
      "cell_type": "code",
      "source": [
        "# roc_auc   확률값으로 평가\n",
        "from sklearn.metrics import roc_auc_score\n",
        "model = XGBClassifier(random_state=0, use_label_encoder=False, eval_metric='logloss')\n",
        "model.fit(X_train,y_train)\n",
        "pred = model.predict_proba(X_test)  # 확률값\n",
        "\n",
        "roc_auc_score(y_test,pred[:,1])"
      ],
      "metadata": {
        "id": "PAdxqE3MQ91H"
      },
      "execution_count": null,
      "outputs": []
    },
    {
      "cell_type": "markdown",
      "source": [
        "# Quiz. 종합 퀴즈"
      ],
      "metadata": {
        "id": "3o9cbt9k4ND8"
      }
    },
    {
      "cell_type": "code",
      "source": [
        "# 다음은 이번 노드에서 학습했던 데이터를 로드하고,\n",
        "# 랜덤포레스트, xgboost 모델을 각각 돌려보는 과정입니다.\n",
        "# 다시 보며 그 과정을 복습하고 실행해보세요.\n",
        "\n",
        "# 데이터 로드\n",
        "import pandas as pd\n",
        "from sklearn.model_selection import train_test_split\n",
        "from sklearn.metrics import accuracy_score\n",
        "from sklearn.datasets import load_breast_cancer\n",
        "def make_dataset():\n",
        "    bc = load_breast_cancer()\n",
        "    df = pd.DataFrame(bc.data, columns=bc.feature_names)\n",
        "    df['target'] = bc.target\n",
        "    X_train, X_test, y_train, y_test = train_test_split(\n",
        "        df.drop('target', axis=1), df['target'], test_size=0.5, random_state=1004)\n",
        "    return X_train, X_test, y_train, y_test\n",
        "\n",
        "X_train, X_test, y_train, y_test = make_dataset()\n",
        "\n",
        "# 랜덤포레스트\n",
        "from sklearn.ensemble import RandomForestClassifier\n",
        "model1 = RandomForestClassifier(\n",
        "    n_estimators=500, \n",
        "    max_depth=5, \n",
        "    random_state=0)\n",
        "model1.fit(X_train, y_train)\n",
        "pred1 = model1.predict_proba(X_test)\n",
        "print(accuracy_score(y_test, pred1[:,1].round()))\n",
        "\n",
        "# xgboost\n",
        "from xgboost import XGBClassifier\n",
        "model2 = XGBClassifier(\n",
        "    n_estimators=500, \n",
        "    max_depth=5, \n",
        "    random_state=0,\n",
        "    eval_metric='logloss',\n",
        "    objective = 'binary:logistic',\n",
        "    use_label_encoder=False)\n",
        "model2.fit(X_train, y_train)\n",
        "pred2 = model2.predict_proba(X_test)\n",
        "print(accuracy_score(y_test, pred2[:,1].round()))"
      ],
      "metadata": {
        "id": "mj8HC56t4ZRm"
      },
      "execution_count": null,
      "outputs": []
    },
    {
      "cell_type": "code",
      "source": [
        "# Q. 위 랜덤포레스트, xgboost 모델을 앙상블하여 그 결과를 확인해보세요. \n",
        "# (각 모델의 가중치는 동일하게 해주세요.)\n",
        "# 힌트 : 앙상블은 모델을 합친 것으로, 결국 pred1,pred2을 평균 내서 pred_ensemble을 설정하면 됩니다.\n",
        "pred_ensemble = (pred1 + pred2) / 2\n",
        "print(accuracy_score(y_test, pred_ensemble[:,1].round()))"
      ],
      "metadata": {
        "id": "pQhhtkdg4fuU"
      },
      "execution_count": null,
      "outputs": []
    }
  ]
}