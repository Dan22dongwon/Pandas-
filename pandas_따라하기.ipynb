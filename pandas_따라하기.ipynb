{
  "nbformat": 4,
  "nbformat_minor": 0,
  "metadata": {
    "colab": {
      "private_outputs": true,
      "provenance": [],
      "authorship_tag": "ABX9TyPlI4Tnk3MRxq26wIj9ue6B",
      "include_colab_link": true
    },
    "kernelspec": {
      "name": "python3",
      "display_name": "Python 3"
    },
    "language_info": {
      "name": "python"
    }
  },
  "cells": [
    {
      "cell_type": "markdown",
      "metadata": {
        "id": "view-in-github",
        "colab_type": "text"
      },
      "source": [
        "<a href=\"https://colab.research.google.com/github/Dan22dongwon/Pandas-/blob/main/pandas_%EB%94%B0%EB%9D%BC%ED%95%98%EA%B8%B0.ipynb\" target=\"_parent\"><img src=\"https://colab.research.google.com/assets/colab-badge.svg\" alt=\"Open In Colab\"/></a>"
      ]
    },
    {
      "cell_type": "markdown",
      "source": [
        "# 판다스 데이터 저장 및 불러오기"
      ],
      "metadata": {
        "id": "Y1sJDQDsj6Gj"
      }
    },
    {
      "cell_type": "code",
      "source": [
        "import pandas as pd"
      ],
      "metadata": {
        "id": "87WTGROHgqRf"
      },
      "execution_count": null,
      "outputs": []
    },
    {
      "cell_type": "code",
      "execution_count": null,
      "metadata": {
        "id": "4LPk6gBSgimt"
      },
      "outputs": [],
      "source": [
        "data = {\n",
        "    \"메뉴\":['후라이드', '양념치킨', '간장치킨', '마늘치킨', '파닭', '닭강정', '양반후반'],\n",
        "    \"가격\":[12000, 13000, 14000, 14000, 14000, 15000, 13000],\n",
        "    \"호수\":['10호', '10호', '9호', '9호', '11호', '12호', '10호'],\n",
        "    \"칼로리\":[1000, 1400, 1600, 1800, 1300, 1500, 1300],\n",
        "}\n",
        "\n",
        "data = pd.DataFrame(data)\n",
        "data.to_csv('modudak.csv',index=False)"
      ]
    },
    {
      "cell_type": "markdown",
      "source": [
        "#데이터 불러오기"
      ],
      "metadata": {
        "id": "-gCPoNUqg5U5"
      }
    },
    {
      "cell_type": "code",
      "source": [
        "pd.read_csv('modudak.csv')"
      ],
      "metadata": {
        "id": "cPqpTySMg455"
      },
      "execution_count": null,
      "outputs": []
    },
    {
      "cell_type": "markdown",
      "source": [
        "#데이터 불러와서 변수에 담기"
      ],
      "metadata": {
        "id": "5Kr8j3W2hH8f"
      }
    },
    {
      "cell_type": "code",
      "source": [
        "df = pd.read_csv('modudak.csv')"
      ],
      "metadata": {
        "id": "xavXbuw8hHSr"
      },
      "execution_count": null,
      "outputs": []
    },
    {
      "cell_type": "markdown",
      "source": [
        "#데이터 샘플 확인: 앞에서 부터 n개 (기본 5개)"
      ],
      "metadata": {
        "id": "AlbXcytVhX79"
      }
    },
    {
      "cell_type": "code",
      "source": [
        "df.head()  # 기본적으로 5개 확인 가능"
      ],
      "metadata": {
        "id": "EmJkVauohXbS"
      },
      "execution_count": null,
      "outputs": []
    },
    {
      "cell_type": "markdown",
      "source": [
        "# 데이터 샘플 확인 : 앞에서 부터 2"
      ],
      "metadata": {
        "id": "evpGAZ7zh37c"
      }
    },
    {
      "cell_type": "code",
      "source": [
        "df.head(2)"
      ],
      "metadata": {
        "id": "kMyjazT9iADQ"
      },
      "execution_count": null,
      "outputs": []
    },
    {
      "cell_type": "markdown",
      "source": [
        "#데이터 샘플 확인: 뒤에서 부터 n개(기본 5개)"
      ],
      "metadata": {
        "id": "fPIpY69KiKFj"
      }
    },
    {
      "cell_type": "code",
      "source": [
        "df.tail()"
      ],
      "metadata": {
        "id": "ETMu_AXAiUzQ"
      },
      "execution_count": null,
      "outputs": []
    },
    {
      "cell_type": "markdown",
      "source": [
        "#데이터 샘플 확인: 뒤에서 부터 2개"
      ],
      "metadata": {
        "id": "ZyZysaVAiaqP"
      }
    },
    {
      "cell_type": "code",
      "source": [
        "df.tail(2)"
      ],
      "metadata": {
        "id": "FXXoy_b3ijxW"
      },
      "execution_count": null,
      "outputs": []
    },
    {
      "cell_type": "markdown",
      "source": [
        "#CSV 파일로 저장하기"
      ],
      "metadata": {
        "id": "1dHN2Myjipbb"
      }
    },
    {
      "cell_type": "code",
      "source": [
        "df.to_csv('test.csv')"
      ],
      "metadata": {
        "id": "f_y5CqBnipFF"
      },
      "execution_count": null,
      "outputs": []
    },
    {
      "cell_type": "markdown",
      "source": [
        "#저장된 csv확인"
      ],
      "metadata": {
        "id": "Y44b6BFui3mq"
      }
    },
    {
      "cell_type": "code",
      "source": [
        "pd.read_csv('test.csv',index=False)   # 기본적으로 index는 Ture 로 들어 가 있음"
      ],
      "metadata": {
        "id": "TAY6DmAwi8Q7"
      },
      "execution_count": null,
      "outputs": []
    },
    {
      "cell_type": "markdown",
      "source": [
        "# 데이터 선택하기"
      ],
      "metadata": {
        "id": "ItMDmomykX_Y"
      }
    },
    {
      "cell_type": "markdown",
      "source": [
        "열(column)선택\n",
        ">>시리즈 선택 (메뉴)"
      ],
      "metadata": {
        "id": "McgLIh0ykdF7"
      }
    },
    {
      "cell_type": "code",
      "source": [
        "df['메뉴']      # 1 방법\n",
        "df.메뉴           # 2 반법"
      ],
      "metadata": {
        "id": "cBKmTfTika8_"
      },
      "execution_count": null,
      "outputs": []
    },
    {
      "cell_type": "markdown",
      "source": [
        ">> 데이터프레임 선택(메뉴,가격)"
      ],
      "metadata": {
        "id": "F_WSvml_k74o"
      }
    },
    {
      "cell_type": "code",
      "source": [
        "df[['메뉴','가격']]  # 대괄호 두번"
      ],
      "metadata": {
        "id": "CBn7G0PLlGAB"
      },
      "execution_count": null,
      "outputs": []
    },
    {
      "cell_type": "markdown",
      "source": [
        ">> type 확인"
      ],
      "metadata": {
        "id": "FPidJEyOkskt"
      }
    },
    {
      "cell_type": "code",
      "source": [
        "type(df[['메뉴','가격']])"
      ],
      "metadata": {
        "id": "kw_RigWPlYKz"
      },
      "execution_count": null,
      "outputs": []
    },
    {
      "cell_type": "markdown",
      "source": [
        "> 행(row) 선택"
      ],
      "metadata": {
        "id": "tkD2u_mDlmon"
      }
    },
    {
      "cell_type": "code",
      "source": [
        "#1400원 보다 큰 가격\n",
        "\n",
        "df['가격']>=14000"
      ],
      "metadata": {
        "id": "rFLMpfImlmZU"
      },
      "execution_count": null,
      "outputs": []
    },
    {
      "cell_type": "code",
      "source": [
        "#14000원 보다 큰 가격 데이터 선택\n",
        "cond = df['가격']>=14000\n",
        "df[cond]"
      ],
      "metadata": {
        "id": "A5t-p32Vl5_e"
      },
      "execution_count": null,
      "outputs": []
    },
    {
      "cell_type": "code",
      "source": [
        "#조건 2개 이상 일때(And)\n",
        "# 가격 >= 14000\n",
        "# 호수 == 9호\n",
        "\n",
        "cond1 = df['가격'] >= 14000\n",
        "cond2 = df['호수'] == '9호'\n",
        "df[cond1&cond2]"
      ],
      "metadata": {
        "id": "yN1qL4TYl92_"
      },
      "execution_count": null,
      "outputs": []
    },
    {
      "cell_type": "code",
      "source": [
        "#조건 2개 이상 일때(Or)\n",
        "# 가격 >= 14000\n",
        "# 호수 == 9호\n",
        "\n",
        "cond1 = df['가격'] >= 14000\n",
        "cond2 = df['호수'] == '9호'\n",
        "df[cond1|cond2]"
      ],
      "metadata": {
        "id": "7YMUohdRnCFI"
      },
      "execution_count": null,
      "outputs": []
    },
    {
      "cell_type": "code",
      "source": [
        "# isin() 함수 활용\n",
        "cond3 = df['호수'].isin(['9호','10호'])\n",
        "df[cond3]"
      ],
      "metadata": {
        "id": "avof3V08nSR5"
      },
      "execution_count": null,
      "outputs": []
    },
    {
      "cell_type": "markdown",
      "source": [
        "#인덱싱/슬라이싱"
      ],
      "metadata": {
        "id": "O7hjtwiCl3Xs"
      }
    },
    {
      "cell_type": "code",
      "source": [
        "#데이터 불러오기\n",
        "df=pd.read_csv('modudak.csv')\n",
        "df"
      ],
      "metadata": {
        "id": "mU6e0zV5omjK"
      },
      "execution_count": null,
      "outputs": []
    },
    {
      "cell_type": "code",
      "source": [
        "#인덱스명 임의 변경\n",
        "df['index']=['a','b','c','d','e','f','g']\n",
        "df = df.set_index(keys=['index'])\n",
        "df"
      ],
      "metadata": {
        "id": "qbyR637ro9MG"
      },
      "execution_count": null,
      "outputs": []
    },
    {
      "cell_type": "markdown",
      "source": [
        "#loc  \n",
        " > 인덱스명\n",
        " \n",
        " > 인덱스 명(범위), 컬럼 명(범위)\n"
      ],
      "metadata": {
        "id": "7RuY7pvdo8z-"
      }
    },
    {
      "cell_type": "code",
      "source": [
        "#인덱싱(행 전체)\n",
        "#후라이드\n",
        "df.loc['a']"
      ],
      "metadata": {
        "id": "xR-N9TfEphxf"
      },
      "execution_count": null,
      "outputs": []
    },
    {
      "cell_type": "code",
      "source": [
        "#슬라이싱(컬럼 전체)\n",
        "#가격\n",
        "df.loc[:,'가격']"
      ],
      "metadata": {
        "id": "8CpoYTetp0wg"
      },
      "execution_count": null,
      "outputs": []
    },
    {
      "cell_type": "code",
      "source": [
        "#슬라이싱\n",
        "#양념치킨 가격\n",
        "df.loc['b','가격']"
      ],
      "metadata": {
        "id": "qI6vbjMmp4tV"
      },
      "execution_count": null,
      "outputs": []
    },
    {
      "cell_type": "code",
      "source": [
        "df"
      ],
      "metadata": {
        "id": "_xLu0QRkrbBD"
      },
      "execution_count": null,
      "outputs": []
    },
    {
      "cell_type": "code",
      "source": [
        "#슬라이싱\n",
        "#간장킨메뉴와 가격\n",
        "df.loc['c','메뉴':'가격']"
      ],
      "metadata": {
        "id": "tqG-1Mk-rOIN"
      },
      "execution_count": null,
      "outputs": []
    },
    {
      "cell_type": "code",
      "source": [
        "#슬라이싱\n",
        "#간장치킨 메뉴와 가격\n",
        "df.loc['c',['메뉴','칼로리']]"
      ],
      "metadata": {
        "id": "qLTqz4sOrlHi"
      },
      "execution_count": null,
      "outputs": []
    },
    {
      "cell_type": "code",
      "source": [
        "#슬라이싱\n",
        "#양념치킨에서 마늘치킨까지 메뉴와 가격\n",
        "df.loc['b':'d','메뉴':'가격']"
      ],
      "metadata": {
        "id": "sJ9jy2uOsCDz"
      },
      "execution_count": null,
      "outputs": []
    },
    {
      "cell_type": "markdown",
      "source": [
        "iloc \n",
        ">인덱스 번호\n",
        "\n",
        ">인덱스 번호(범위),컬럼번호(범위)\n"
      ],
      "metadata": {
        "id": "26TgYBGnohKm"
      }
    },
    {
      "cell_type": "code",
      "source": [
        "#데이터 확인\n",
        "df"
      ],
      "metadata": {
        "id": "5_8pYKlwsbyA"
      },
      "execution_count": null,
      "outputs": []
    },
    {
      "cell_type": "code",
      "source": [
        "#인덱싱(행 전체)\n",
        "#후라이드\n",
        "df.iloc[0]"
      ],
      "metadata": {
        "id": "q_ziVac8xWiF"
      },
      "execution_count": null,
      "outputs": []
    },
    {
      "cell_type": "code",
      "source": [
        "#슬라이싱(컬럼 전체)\n",
        "#가격\n",
        "df.iloc[:,1]"
      ],
      "metadata": {
        "id": "msF7cQjoxXNq"
      },
      "execution_count": null,
      "outputs": []
    },
    {
      "cell_type": "code",
      "source": [
        "#슬라이싱\n",
        "#간장치킨 메뉴와 가격\n",
        "df.iloc[2,0:2]"
      ],
      "metadata": {
        "id": "deyM8R0jxXIl"
      },
      "execution_count": null,
      "outputs": []
    },
    {
      "cell_type": "code",
      "source": [
        "#슬라이싱(양념치킨과 간장치킨의 데이터)\n",
        "df.iloc[1:3,0:-1]"
      ],
      "metadata": {
        "id": "lSO8DT21xW8t"
      },
      "execution_count": null,
      "outputs": []
    },
    {
      "cell_type": "markdown",
      "source": [
        "#Index 다루기"
      ],
      "metadata": {
        "id": "Kx9BzNhJytt4"
      }
    },
    {
      "cell_type": "code",
      "source": [
        "#데이터 불러오기\n",
        "df = pd.read_csv('modudak.csv')\n",
        "df"
      ],
      "metadata": {
        "id": "faOHwm_OyhII"
      },
      "execution_count": null,
      "outputs": []
    },
    {
      "cell_type": "markdown",
      "source": [
        "Set_index"
      ],
      "metadata": {
        "id": "LIRKOW-LzP9b"
      }
    },
    {
      "cell_type": "code",
      "source": [
        "#set_index(keys=[컬럼명])\n",
        "#df.set_index(keys=['메뉴'])"
      ],
      "metadata": {
        "id": "FbFD8VA_zO_i"
      },
      "execution_count": null,
      "outputs": []
    },
    {
      "cell_type": "code",
      "source": [
        "#loc 슬라이싱\n",
        "#양념치킨에서 마늘치킨 가지 호수에서 칼로리까지\n",
        "df.loc['양념치킨':'마늘치킨','호수':'칼로리']"
      ],
      "metadata": {
        "id": "MrP0Bfji0XZ-"
      },
      "execution_count": null,
      "outputs": []
    },
    {
      "cell_type": "code",
      "source": [
        "#iloc 슬라이싱\n",
        "#양념치킨 만늘치킨까지 호수에서 칼로리까지\n",
        "df.iloc[1:4,1:]"
      ],
      "metadata": {
        "id": "GwSRSz9Q3nO_"
      },
      "execution_count": null,
      "outputs": []
    },
    {
      "cell_type": "markdown",
      "source": [
        "#reset_index"
      ],
      "metadata": {
        "id": "k4UDsBUR3m0O"
      }
    },
    {
      "cell_type": "code",
      "source": [
        "#reset_index(기본값 drop= False)\n",
        "df.reset_index()\n",
        "df.reset_index(drop=True) # 기존에 있는 인덱스명을 안적어줘도 될때"
      ],
      "metadata": {
        "id": "Bf6y78pP4Mc9"
      },
      "execution_count": null,
      "outputs": []
    },
    {
      "cell_type": "markdown",
      "source": [
        "#행과 열 추가"
      ],
      "metadata": {
        "id": "ZQLN4s8hhXT-"
      }
    },
    {
      "cell_type": "code",
      "source": [
        "#할인율 컬럼 추가 (값은 0.2)\n",
        "df['할인']=0.2\n",
        "df"
      ],
      "metadata": {
        "id": "yqGDWbJW4dWK"
      },
      "execution_count": null,
      "outputs": []
    },
    {
      "cell_type": "code",
      "source": [
        "#할인가 컬럼 추가\n",
        "df['할인가'] = df['가격']*(1-df['할인'])\n",
        "df"
      ],
      "metadata": {
        "id": "4bi3bgBGlg6r"
      },
      "execution_count": null,
      "outputs": []
    },
    {
      "cell_type": "code",
      "source": [
        "#결측값으로 추가, 원산지 컬럼 만들고 결측값 (NaN)으로 대입\n",
        "import numpy as np\n",
        "df['원산지'] = np.nan\n",
        "df"
      ],
      "metadata": {
        "id": "lA_5hctjljo0"
      },
      "execution_count": null,
      "outputs": []
    },
    {
      "cell_type": "markdown",
      "source": [
        "행(row)추가"
      ],
      "metadata": {
        "id": "TjRoKxH-lqzI"
      }
    },
    {
      "cell_type": "code",
      "source": [
        "# 리스트 형태로 데이터 (행) 추가\n",
        "aiffel = ['아이펠치킨','16000','11호',1200,0.5,8000,'국내산']\n",
        "df.loc['new'] = aiffel\n",
        "df"
      ],
      "metadata": {
        "id": "Q0qmXkYHltfx"
      },
      "execution_count": null,
      "outputs": []
    },
    {
      "cell_type": "code",
      "source": [
        "# 딕셔너리 형태로 데이터(행) 추가\n",
        "flip = {'메뉴':'풀잎치킨','가격':10000 , '호수':'10호'}\n",
        "df.loc[10] = flip         #리스트는 모든 값을 넣어야 되지만 딕셔너리는 넣고 싶은 데이터만 매칭 하여 넣을 수 있다\n",
        "df"
      ],
      "metadata": {
        "id": "qazV5WGWnL-j"
      },
      "execution_count": null,
      "outputs": []
    },
    {
      "cell_type": "markdown",
      "source": [
        "값변경"
      ],
      "metadata": {
        "id": "M3OODVaOoGXB"
      }
    },
    {
      "cell_type": "code",
      "source": [
        "# 후라이드의 원산지는 '국내산' 값 추가(loc 활용)\n",
        "df.loc[0,'원산지'] = '국내산'\n",
        "df"
      ],
      "metadata": {
        "id": "iX9UCegPoIOk"
      },
      "execution_count": null,
      "outputs": []
    },
    {
      "cell_type": "code",
      "source": [
        "# 파닭과 닭강정의 원산지는 '브라질' 값 추가(iloc활용)\n",
        "df.iloc[4,-1] = '브라질'\n",
        "df.iloc[5,-1] = '브라질'\n",
        "df"
      ],
      "metadata": {
        "id": "0QSCdbSZp4K3"
      },
      "execution_count": null,
      "outputs": []
    },
    {
      "cell_type": "code",
      "source": [
        "# replace 활용 (양반후반 -> 양념반후라이드반)\n",
        "df = df.replace('양반후반','양념반후라이드반')\n",
        "df"
      ],
      "metadata": {
        "id": "W4OTmF5dqE7s"
      },
      "execution_count": null,
      "outputs": []
    },
    {
      "cell_type": "code",
      "source": [
        "# replace 활용 (아이펠치킨 -> [인기]아이펠치킨, 풀잎치킨 -> [베스트]풀잎치킨)\n",
        "df = df.replace('아이펠치킨','[인기]아이펠치킨').replace('풀잎치킨','[베스트]풀잎치킨')\n",
        "df"
      ],
      "metadata": {
        "id": "wfXDY1E9qL-S"
      },
      "execution_count": null,
      "outputs": []
    },
    {
      "cell_type": "code",
      "source": [
        "# replace, 딕셔너리 활용 (후라이드 -> 황금후라이드 , 양념치킨 -> 승일양념치킨)\n",
        "d = {'후라이드':'황금후라이드','양념치킨':'승일양념치킨'}\n",
        "df = df.replace(d)\n",
        "df"
      ],
      "metadata": {
        "id": "GhApDz6WqaKU"
      },
      "execution_count": null,
      "outputs": []
    },
    {
      "cell_type": "code",
      "source": [
        "# 숫자 변경 : 10000 -> 9900\n",
        "df = df.replace(10000,9900)\n",
        "df"
      ],
      "metadata": {
        "id": "vCdi763iqaAw"
      },
      "execution_count": null,
      "outputs": []
    },
    {
      "cell_type": "code",
      "source": [
        "#new_modudak.csv 로 저장\n",
        "df.to_csv('new_modudak.csv') #인덱스 값을 False로 두지 않으면 처음 인덱스가 Unnamed 0 으로 뜬다 따라서, df.to_csv('new_modudak.csv', index=False) \n",
        "df"
      ],
      "metadata": {
        "id": "WsjdyMdRtSWc"
      },
      "execution_count": null,
      "outputs": []
    },
    {
      "cell_type": "markdown",
      "source": [
        "Unnamed 0 index=False 로 두지 않았기때문에 생김"
      ],
      "metadata": {
        "id": "Gg2TwYf7yIRI"
      }
    },
    {
      "cell_type": "code",
      "source": [
        "import pandas as pd \n",
        "import numpy as np\n",
        "df = pd.DataFrame({\n",
        "    'Unnamed: 0': [0,1,2,3,4,5,6,'new',10],\n",
        "    '메뉴': ['황금후라이드','승일양념치킨','간장치킨','마늘치킨','파닭','닭강정','양념반후라이드반','[인기]아이펠치킨','[베스트]풀잎치킨'],\n",
        "    '가격': [12000,13000,14000,14000,14000,15000,13000,16000,9900],\n",
        "    '호수' : ['10호','10호','9호','9호','11호','12호','10호','11호','10호'],\n",
        "    '칼로리' : [1000.0,1400.0,1600.0,1800.0,1300.0,1500.0,1300.0,1200.0,np.nan],\n",
        "    '할인율' : [0.2,0.2,0.2,0.2,0.2,0.2,0.2,0.5,np.nan],\n",
        "    '할인가' : [9600.0,10400.0,11200.0,11200.0,11200.0,12000.0,10400.0,8000.0,np.nan],\n",
        "    '원산지' : ['국내산',np.nan,np.nan,np.nan,'브라질','브라질',np.nan,'국내산',np.nan]\n",
        "})\n",
        "df.to_csv('new_modudak.csv', index=False)\n",
        "df"
      ],
      "metadata": {
        "id": "ZyGCQE3C297A"
      },
      "execution_count": null,
      "outputs": []
    },
    {
      "cell_type": "code",
      "source": [
        "#데이터 불러오기 (인덱스 값 지정 index_col)\n",
        "pd.read_csv('new_modudak.csv',index_col='Unnamed: 0')\n",
        "df"
      ],
      "metadata": {
        "id": "5A2QaqwPzPJD"
      },
      "execution_count": null,
      "outputs": []
    },
    {
      "cell_type": "markdown",
      "source": [
        "#데이터 삭제\n",
        " 컬럼삭제"
      ],
      "metadata": {
        "id": "kpnFbvEs4IcP"
      }
    },
    {
      "cell_type": "code",
      "source": [
        "#[Tip] 데이터프레임 복사\n",
        "data = df.copy()\n",
        "data"
      ],
      "metadata": {
        "id": "uY-iNXE-38nO"
      },
      "execution_count": null,
      "outputs": []
    },
    {
      "cell_type": "code",
      "source": [
        "# 데이터 삭제 (컬럼(열): Unnamed: 0') drop(axis=1)\n",
        "# axis=1:열방향(컬럼) / axis=0:행방향\n",
        "df.drop('Unnamed: 0', axis=1)"
      ],
      "metadata": {
        "id": "PDGFnHro4VNL"
      },
      "execution_count": null,
      "outputs": []
    },
    {
      "cell_type": "code",
      "source": [
        "# 데이터 삭제 (컬럼: Unnamed: 0') drop(columns=[])\n",
        "data = data.drop(columns=['Unnamed: 0','원산지'])\n",
        "data"
      ],
      "metadata": {
        "id": "Lr0ZbYbZ4Unc"
      },
      "execution_count": null,
      "outputs": []
    },
    {
      "cell_type": "code",
      "source": [
        "# 데이터 복사(data -> df)\n",
        "df = data.copy()\n",
        "df"
      ],
      "metadata": {
        "id": "iea0INMp5XJU"
      },
      "execution_count": null,
      "outputs": []
    },
    {
      "cell_type": "markdown",
      "source": [
        "행 삭제"
      ],
      "metadata": {
        "id": "V89BUgq45v3V"
      }
    },
    {
      "cell_type": "code",
      "source": [
        "#행 삭제(파닭)\n",
        "data=data.drop(4,axis=0)\n",
        "data"
      ],
      "metadata": {
        "id": "CUxYx1--5yiX"
      },
      "execution_count": null,
      "outputs": []
    },
    {
      "cell_type": "code",
      "source": [
        "#행 삭제(양념반후라이드반) inplace=True  : inplace를 True로 설정시 대입 없이 삭제 가능\n",
        "data.drop(5,axis=0,inplace=True)\n",
        "data"
      ],
      "metadata": {
        "id": "tX7RregZ7iWt"
      },
      "execution_count": null,
      "outputs": []
    },
    {
      "cell_type": "code",
      "source": [
        "#행 삭제(조건) 가격 >=14000 삭제\n",
        "cond = data['가격'] >= 14000\n",
        "data[cond].index"
      ],
      "metadata": {
        "id": "leWMSFrf7jOc"
      },
      "execution_count": null,
      "outputs": []
    },
    {
      "cell_type": "code",
      "source": [
        "#행 삭제 (해당 인덱스 )\n",
        "data.drop(data[cond].index,axis=0,inplace=True)\n",
        "data"
      ],
      "metadata": {
        "id": "h1ov74xt7usj"
      },
      "execution_count": null,
      "outputs": []
    },
    {
      "cell_type": "markdown",
      "source": [
        "#**결측치 처리**\n",
        "  결측치 삭제"
      ],
      "metadata": {
        "id": "9xGunMGL-YBu"
      }
    },
    {
      "cell_type": "code",
      "source": [
        "#데이터프레임 복사\n",
        "data = df.copy()\n",
        "data"
      ],
      "metadata": {
        "id": "ScR0NWKc-XW_"
      },
      "execution_count": null,
      "outputs": []
    },
    {
      "cell_type": "code",
      "source": [
        "#결측치가 있는 행 모두 삭제\n",
        "data.dropna(axis=0)"
      ],
      "metadata": {
        "id": "h3vJBodcMnW1"
      },
      "execution_count": null,
      "outputs": []
    },
    {
      "cell_type": "code",
      "source": [
        "#결측치가 있는 컬럼 모두 삭제\n",
        "data.dropna(axis=1)"
      ],
      "metadata": {
        "id": "4M4bLonGMwSa"
      },
      "execution_count": null,
      "outputs": []
    },
    {
      "cell_type": "markdown",
      "source": [
        "#결측치 채우기"
      ],
      "metadata": {
        "id": "0PLeKFfFNuvZ"
      }
    },
    {
      "cell_type": "code",
      "source": [
        "#컬럼별 결측치 확인\n",
        "df = pd.read_csv('new_modudak.csv')\n",
        "\n",
        "df.isnull().sum()"
      ],
      "metadata": {
        "id": "dVL8zB1eNZzT"
      },
      "execution_count": null,
      "outputs": []
    },
    {
      "cell_type": "code",
      "source": [
        "#결측값 채우기\n",
        "#원산지 -> '알수없음' 으로 채우기\n",
        "df = pd.read_csv('new_modudak.csv')\n",
        "\n",
        "df['원산지'].fillna('알수없음')"
      ],
      "metadata": {
        "id": "F7T-qDHmN4cO"
      },
      "execution_count": null,
      "outputs": []
    },
    {
      "cell_type": "code",
      "source": [
        "#원산지 최빈값으로 채우기\n",
        "df['원산지'].fillna('국내산')"
      ],
      "metadata": {
        "id": "52S2V6VBOBkr"
      },
      "execution_count": null,
      "outputs": []
    },
    {
      "cell_type": "code",
      "source": [
        "#원산지 채우기 실행\n",
        "df = pd.read_csv('new_modudak.csv')\n",
        "\n",
        "df = df['원산지'].fillna('국내산')\n",
        "df"
      ],
      "metadata": {
        "id": "eOL1Z3IjOGJY"
      },
      "execution_count": null,
      "outputs": []
    },
    {
      "cell_type": "code",
      "source": [
        "#'칼로리'컬럼 결측치는 900으로 결측치 채움\n",
        "df = pd.read_csv('new_modudak.csv')\n",
        "\n",
        "df['칼로리'].fillna(900)"
      ],
      "metadata": {
        "id": "dJEuL9nTOKZX"
      },
      "execution_count": null,
      "outputs": []
    },
    {
      "cell_type": "code",
      "source": [
        "#'칼로리'컬럼 결측치는 최소값 결측치 채움\n",
        "df = pd.read_csv('new_modudak.csv')\n",
        "\n",
        "df['칼로리'].fillna(df['칼로리'].min)"
      ],
      "metadata": {
        "id": "Ec38lQsSOU2k"
      },
      "execution_count": null,
      "outputs": []
    },
    {
      "cell_type": "code",
      "source": [
        "#칼로리 채우기 실행\n",
        "df = pd.read_csv('new_modudak.csv')\n",
        "\n",
        "df['칼로리'] = df['칼로리'].fillna(df['칼로리'].min)"
      ],
      "metadata": {
        "id": "lA9l4tkOPlXo"
      },
      "execution_count": null,
      "outputs": []
    },
    {
      "cell_type": "markdown",
      "source": [
        "#정렬"
      ],
      "metadata": {
        "id": "ESl-h3I-VZuZ"
      }
    },
    {
      "cell_type": "code",
      "source": [
        "df = pd.read_csv('new_modudak.csv')\n",
        "df"
      ],
      "metadata": {
        "id": "mDatgF4JVf0g"
      },
      "execution_count": null,
      "outputs": []
    },
    {
      "cell_type": "code",
      "source": [
        "#인덱스 기준 (기본값 ascending= True)\n",
        "df.sort_index(ascending=False)"
      ],
      "metadata": {
        "id": "wv3T2VSnVjDW"
      },
      "execution_count": null,
      "outputs": []
    },
    {
      "cell_type": "code",
      "source": [
        "#값 기준(기본값 ascending = True)\n",
        "#메뉴 기중 정렬\n",
        "df.sort_values('가격',ascending=False)"
      ],
      "metadata": {
        "id": "lvwDbezOWE1_"
      },
      "execution_count": null,
      "outputs": []
    },
    {
      "cell_type": "code",
      "source": [
        "# 가격과 메뉴 기중 정렬\n",
        "df.sort_values(['가격','원산지'], ascending=[False, True])"
      ],
      "metadata": {
        "id": "D1tEU67cWf3f"
      },
      "execution_count": null,
      "outputs": []
    },
    {
      "cell_type": "code",
      "source": [
        "# 인덱스 새로 만들기 drop = True\n",
        "df.reset_index(drop=True)"
      ],
      "metadata": {
        "id": "-Kf_pjOmXR4f"
      },
      "execution_count": null,
      "outputs": []
    },
    {
      "cell_type": "markdown",
      "source": [
        "#자료형 변환"
      ],
      "metadata": {
        "id": "BujZw_wXYd63"
      }
    },
    {
      "cell_type": "code",
      "source": [
        "# type 확인\n",
        "df = pd.read_csv('new_modudak.csv')\n",
        "df.info()"
      ],
      "metadata": {
        "id": "ogIztGYoYcbw"
      },
      "execution_count": null,
      "outputs": []
    },
    {
      "cell_type": "code",
      "source": [],
      "metadata": {
        "id": "UPo9q0FpulXl"
      },
      "execution_count": null,
      "outputs": []
    }
  ]
}