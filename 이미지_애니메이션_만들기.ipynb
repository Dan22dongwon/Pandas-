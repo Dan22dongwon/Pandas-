{
  "nbformat": 4,
  "nbformat_minor": 0,
  "metadata": {
    "colab": {
      "private_outputs": true,
      "provenance": [],
      "authorship_tag": "ABX9TyMi4l205nZ1M+iy/hyB8azf",
      "include_colab_link": true
    },
    "kernelspec": {
      "name": "python3",
      "display_name": "Python 3"
    },
    "language_info": {
      "name": "python"
    }
  },
  "cells": [
    {
      "cell_type": "markdown",
      "metadata": {
        "id": "view-in-github",
        "colab_type": "text"
      },
      "source": [
        "<a href=\"https://colab.research.google.com/github/Dan22dongwon/Pandas-sci-kit-learn/blob/main/%EC%9D%B4%EB%AF%B8%EC%A7%80_%EC%95%A0%EB%8B%88%EB%A9%94%EC%9D%B4%EC%85%98_%EB%A7%8C%EB%93%A4%EA%B8%B0.ipynb\" target=\"_parent\"><img src=\"https://colab.research.google.com/assets/colab-badge.svg\" alt=\"Open In Colab\"/></a>"
      ]
    },
    {
      "cell_type": "code",
      "execution_count": null,
      "metadata": {
        "id": "Vzx-CMWcoUtQ"
      },
      "outputs": [],
      "source": [
        "import matplotlib.image as img\n",
        "import matplotlib.pyplot as plt \n",
        "import os, random\n",
        "\n",
        "def show_n_images_from_dir(dir_path, n, shuffle=True):\n",
        "    file_list = os.listdir(dir_path)\n",
        "    if shuffle:\n",
        "        random.shuffle(file_list)\n",
        "        \n",
        "    plt.figure(figsize=(15, 5))\n",
        "\n",
        "    for idx, file in enumerate(file_list):\n",
        "        if idx >= n: break\n",
        "        img_path = os.path.join(dir_path, file)\n",
        "        plt.subplot(1,n,idx+1)\n",
        "        plt.title(file)\n",
        "        plt.imshow(img.imread(img_path))\n",
        "\n",
        "# 실제 인물 예제\n",
        "img_dir_A = os.path.join('dataset', 'selfie2anime', 'trainA')\n",
        "show_n_images_from_dir(img_dir_A, 5)\n",
        "\n",
        "# 애니메이션 캐릭터 예제\n",
        "img_dir_B = os.path.join('dataset', 'selfie2anime', 'trainB')\n",
        "show_n_images_from_dir(img_dir_B, 5)"
      ]
    },
    {
      "cell_type": "code",
      "source": [
        "import demo\n",
        "import matplotlib.pyplot as plt \n",
        "from utils import *\n",
        "gan = demo.gan\n",
        "\n",
        "plt.figure(figsize=(10, 20))\n",
        "\n",
        "def show_my_animated_images(img_count=5):\n",
        "    for n, (real_A, _) in enumerate(gan.test_mine_loader):\n",
        "        real_A = real_A.to(gan.device)\n",
        "        fake_A2B, _, _ = gan.genA2B(real_A)\n",
        "\n",
        "        if n >= img_count: break\n",
        "        plt.subplot(img_count,2,2*n+1)\n",
        "        plt.title('original')\n",
        "        plt.imshow(tensor2numpy(denorm(real_A[0])))\n",
        "\n",
        "        plt.subplot(img_count,2,2*n+2)\n",
        "        plt.title('generated')\n",
        "        plt.imshow(tensor2numpy(denorm(fake_A2B[0])))\n",
        "\n",
        "# 이미지 변환을 수행합니다! \n",
        "show_my_animated_images(5)  #업로드한 이미지 갯수로 바꿔주세요."
      ],
      "metadata": {
        "id": "TRynXmZppoMl"
      },
      "execution_count": null,
      "outputs": []
    }
  ]
}