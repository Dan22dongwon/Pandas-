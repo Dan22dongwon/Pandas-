{
  "nbformat": 4,
  "nbformat_minor": 0,
  "metadata": {
    "colab": {
      "private_outputs": true,
      "provenance": [],
      "authorship_tag": "ABX9TyNzPJ+9ttoU1WrZPiQ2mqta",
      "include_colab_link": true
    },
    "kernelspec": {
      "name": "python3",
      "display_name": "Python 3"
    },
    "language_info": {
      "name": "python"
    }
  },
  "cells": [
    {
      "cell_type": "markdown",
      "metadata": {
        "id": "view-in-github",
        "colab_type": "text"
      },
      "source": [
        "<a href=\"https://colab.research.google.com/github/Dan22dongwon/Pandas-sci-kit-learn/blob/main/%EB%B9%84%EC%A7%80%EB%8F%84_%ED%95%99%EC%8A%B5.ipynb\" target=\"_parent\"><img src=\"https://colab.research.google.com/assets/colab-badge.svg\" alt=\"Open In Colab\"/></a>"
      ]
    },
    {
      "cell_type": "markdown",
      "source": [
        "# 1. 차원축소\n",
        "- PXA(Principal Component Analysis)\n",
        "   - 차원축소 기법 중 대표적인 기법\n",
        "   - 고차원에서 저차원으로 축소 하는 선형 투영 기법\n",
        "   - 데이터의 차원이 증가 할 수록 거리가 증가하고, 오버피팅 가능성이 커짐\n",
        "- PCA 단계 \n",
        "   - 데이터에서 분산이 최대인 축을 찾음(첫번째 축)\n",
        "   - 첫번째 축과 직교하면서 분산이 최대인 축을 찾음(두번째 축)\n",
        "   - 첫번째와 두번째 축에 직교하고, 분산이 최대인 축을 찾음(세번째 축)\n"
      ],
      "metadata": {
        "id": "togZqXb72ARH"
      }
    },
    {
      "cell_type": "code",
      "execution_count": null,
      "metadata": {
        "id": "W7Vastg816iC"
      },
      "outputs": [],
      "source": [
        "#라이브러리 불러오기\n",
        "import pandas as pd"
      ]
    },
    {
      "cell_type": "code",
      "source": [
        "#와인 데이터 불러오기\n",
        "from sklearn.datasets import load_wine\n",
        "dataset = load_wine()\n",
        "data = pd.DataFrame(dataset.data, columns=dataset.feature_names)"
      ],
      "metadata": {
        "id": "Unk1egbu23B_"
      },
      "execution_count": null,
      "outputs": []
    },
    {
      "cell_type": "code",
      "source": [
        "#데이터 샘플 확인\n",
        "print(data.shape)\n",
        "data.head()"
      ],
      "metadata": {
        "id": "O2B8g8yd3cKE"
      },
      "execution_count": null,
      "outputs": []
    },
    {
      "cell_type": "markdown",
      "source": [],
      "metadata": {
        "id": "fvga8OVC3hAP"
      }
    },
    {
      "cell_type": "markdown",
      "source": [
        "#스케일링"
      ],
      "metadata": {
        "id": "AZoQDZcz3uxt"
      }
    },
    {
      "cell_type": "code",
      "source": [
        "#스탠다드 스케일링 \n",
        "from sklearn.preprocessing import StandardScaler\n",
        "scaler = StandardScaler()\n",
        "data = scaler.fit_transform(data)\n",
        "data[:3]"
      ],
      "metadata": {
        "id": "5mqIrWbb36-J"
      },
      "execution_count": null,
      "outputs": []
    },
    {
      "cell_type": "code",
      "source": [
        "# 데이터 복사 (df변수)\n",
        "df= data.copy()"
      ],
      "metadata": {
        "id": "RMZ7loR54BIA"
      },
      "execution_count": null,
      "outputs": []
    },
    {
      "cell_type": "markdown",
      "source": [
        "# PCA"
      ],
      "metadata": {
        "id": "ypoddWOf4hAL"
      }
    },
    {
      "cell_type": "code",
      "source": [
        "#라이브러리 불러오기\n",
        "from sklearn.decomposition import PCA"
      ],
      "metadata": {
        "id": "JKrfAMeG4BE-"
      },
      "execution_count": null,
      "outputs": []
    },
    {
      "cell_type": "code",
      "source": [
        "# PCA\n",
        "pca = PCA(n_components=2)"
      ],
      "metadata": {
        "id": "7Z0L6wxl4BCN"
      },
      "execution_count": null,
      "outputs": []
    },
    {
      "cell_type": "code",
      "source": [
        "# PCA 변환\n",
        "df = pca.fit_transform(df)"
      ],
      "metadata": {
        "id": "CwHoDdOj4yEA"
      },
      "execution_count": null,
      "outputs": []
    },
    {
      "cell_type": "code",
      "source": [
        "# 데이터 크기 확인\n",
        "df.shape"
      ],
      "metadata": {
        "id": "SOBo7n0l5ezy"
      },
      "execution_count": null,
      "outputs": []
    },
    {
      "cell_type": "code",
      "source": [
        "# 샘플 데이터 확인\n",
        "df[:3]"
      ],
      "metadata": {
        "id": "h6hh6RaS5pDH"
      },
      "execution_count": null,
      "outputs": []
    },
    {
      "cell_type": "markdown",
      "source": [
        "# PCA(2차원) 시각화"
      ],
      "metadata": {
        "id": "45-T0b-j5sVF"
      }
    },
    {
      "cell_type": "code",
      "source": [
        "# 시각화 라이브러리\n",
        "import matplotlib.pyplot as plt"
      ],
      "metadata": {
        "id": "tw1BZGsK5xeK"
      },
      "execution_count": null,
      "outputs": []
    },
    {
      "cell_type": "code",
      "source": [
        "# 데이터 프레임 변화\n",
        "df = pd.DataFrame(df)\n",
        "df.head()"
      ],
      "metadata": {
        "id": "fS6gJUVT53wy"
      },
      "execution_count": null,
      "outputs": []
    },
    {
      "cell_type": "code",
      "source": [
        "# scatter\n",
        "plt.scatter(df.iloc[:,0], df.iloc[:,1])"
      ],
      "metadata": {
        "id": "kYTT1FnZ55jl"
      },
      "execution_count": null,
      "outputs": []
    },
    {
      "cell_type": "code",
      "source": [
        "# scatter(c=target)\n",
        "\n",
        "plt.scatter(df.iloc[:,0], df.iloc[:,1],c=dataset.target)"
      ],
      "metadata": {
        "id": "0aEUl2x455hO"
      },
      "execution_count": null,
      "outputs": []
    },
    {
      "cell_type": "code",
      "source": [
        "# 데이터 설명(%)\n",
        "print(pca.explained_variance_ratio_)\n",
        "print(pca.explained_variance_ratio_.sum())"
      ],
      "metadata": {
        "id": "_LacUbg455er"
      },
      "execution_count": null,
      "outputs": []
    },
    {
      "cell_type": "markdown",
      "source": [
        "# 지도 학습(PCA 전후 비교)"
      ],
      "metadata": {
        "id": "cI9dZYmQ6Who"
      }
    },
    {
      "cell_type": "code",
      "source": [
        "# PCA후 데이터로 머신러닝(2)\n",
        "from sklearn.ensemble import RandomForestClassifier\n",
        "from sklearn.model_selection import cross_val_score\n",
        "\n",
        "model = RandomForestClassifier(random_state=2022)\n",
        "cross_val_score(model, df, dataset.target, scoring='accuracy',cv=5).mean()"
      ],
      "metadata": {
        "id": "Vb8nOPZR6ap_"
      },
      "execution_count": null,
      "outputs": []
    },
    {
      "cell_type": "code",
      "source": [
        "# PCA전 데이터로 머신러닝(13)\n",
        "cross_val_score(model, data, dataset.target, scoring='accuracy',cv=5).mean()"
      ],
      "metadata": {
        "id": "p_quulIC6dqN"
      },
      "execution_count": null,
      "outputs": []
    },
    {
      "cell_type": "markdown",
      "source": [
        "# PCA(3차원) 시각화"
      ],
      "metadata": {
        "id": "hyMta4zz-SPm"
      }
    },
    {
      "cell_type": "code",
      "source": [
        "#새 데이터 복사\n",
        "df = data.copy()"
      ],
      "metadata": {
        "id": "OtQp8s6V6gRR"
      },
      "execution_count": null,
      "outputs": []
    },
    {
      "cell_type": "code",
      "source": [
        "# pca (n_components=3)\n",
        "pca = PCA(n_components=3)"
      ],
      "metadata": {
        "id": "D0qDng7d-eMS"
      },
      "execution_count": null,
      "outputs": []
    },
    {
      "cell_type": "code",
      "source": [
        "# pca 변환\n",
        "df = pca.fit_transform(df)"
      ],
      "metadata": {
        "id": "Sapb0NqM-stX"
      },
      "execution_count": null,
      "outputs": []
    },
    {
      "cell_type": "code",
      "source": [
        "# 데이터 프레임 변환\n",
        "df = pd.DataFrame(df)"
      ],
      "metadata": {
        "id": "ugAQw-FJ-08o"
      },
      "execution_count": null,
      "outputs": []
    },
    {
      "cell_type": "code",
      "source": [
        "# 시각화(3차원)\n",
        "from mpl_toolkits.mplot3d import Axes3D\n",
        "fig = plt.figure()\n",
        "ax = fig.add_subplot(111,projection='3d')\n",
        "ax.scatter(df.iloc[:,0], df.iloc[:,1], df.iloc[:,2],c=dataset.target)"
      ],
      "metadata": {
        "id": "dXSnjT2Z-8u4"
      },
      "execution_count": null,
      "outputs": []
    },
    {
      "cell_type": "markdown",
      "source": [
        "#점진적 PCA\n",
        "- 데이터 셋이 큰 경우 활용 (배치를 통해 점진적 수행)"
      ],
      "metadata": {
        "id": "JVKAB1CyAKk7"
      }
    },
    {
      "cell_type": "code",
      "source": [
        "# 라이브러리 불러오기\n",
        "from sklearn.decomposition import IncrementalPCA"
      ],
      "metadata": {
        "id": "CGcsb6xFALtp"
      },
      "execution_count": null,
      "outputs": []
    },
    {
      "cell_type": "code",
      "source": [
        "# 데이터 복사\n",
        "df = data.copy()"
      ],
      "metadata": {
        "id": "x47XVlAkAMQY"
      },
      "execution_count": null,
      "outputs": []
    },
    {
      "cell_type": "code",
      "source": [
        "# 점진적 PCA\n",
        "pca = IncrementalPCA(n_components =2 , batch_size=16)"
      ],
      "metadata": {
        "id": "7NUQiHX7AMMo"
      },
      "execution_count": null,
      "outputs": []
    },
    {
      "cell_type": "code",
      "source": [
        "# 점진적 PCA 변환\n",
        "df = pca.fit_transform(df)"
      ],
      "metadata": {
        "id": "LNGUVYJdAMDR"
      },
      "execution_count": null,
      "outputs": []
    },
    {
      "cell_type": "code",
      "source": [
        "# 시각화\n",
        "df = pd.DataFrame(df)\n",
        "plt.scatter(df.iloc[:,0] ,  df.iloc[:,1] , c=dataset.target)"
      ],
      "metadata": {
        "id": "TN_uD6C5Amn7"
      },
      "execution_count": null,
      "outputs": []
    },
    {
      "cell_type": "code",
      "source": [
        "# 데이터 설명(%)\n",
        "print(pca.explained_variance_ratio_)\n",
        "print(pca.explained_variance_ratio_.sum())"
      ],
      "metadata": {
        "id": "Xf-UOQLgApHn"
      },
      "execution_count": null,
      "outputs": []
    },
    {
      "cell_type": "markdown",
      "source": [
        "# 희소PCA\n",
        "- 적절한 희소성을 유지 (alpha 값으로 조정)\n",
        "- 오버핏팅 방지\n"
      ],
      "metadata": {
        "id": "MLCQpeoqD9cZ"
      }
    },
    {
      "cell_type": "code",
      "source": [
        "# 라이브러리 불러오기\n",
        "from sklearn.decomposition import SparsePCA"
      ],
      "metadata": {
        "id": "tW0vzKybEXQn"
      },
      "execution_count": null,
      "outputs": []
    },
    {
      "cell_type": "code",
      "source": [
        "# 데이터 복사\n",
        "df = data.copy()"
      ],
      "metadata": {
        "id": "hNQhz4UKEhFR"
      },
      "execution_count": null,
      "outputs": []
    },
    {
      "cell_type": "code",
      "source": [
        "# 희소 PCA 변환\n",
        "df = pca.fit_transform(df)"
      ],
      "metadata": {
        "id": "ul5N5mocEmOr"
      },
      "execution_count": null,
      "outputs": []
    },
    {
      "cell_type": "code",
      "source": [
        "# 희소 PCA 변환\n",
        "df = pca.fit_transform(df)"
      ],
      "metadata": {
        "id": "1l6OhkG7Eu37"
      },
      "execution_count": null,
      "outputs": []
    },
    {
      "cell_type": "code",
      "source": [
        "# 시각화\n",
        "df = pd.DataFrame(df)\n",
        "plt.scatter(df.iloc[:,0],df.iloc[:,1],c=dataset.target)"
      ],
      "metadata": {
        "id": "w0wYuUZ8E7RR"
      },
      "execution_count": null,
      "outputs": []
    },
    {
      "cell_type": "markdown",
      "source": [
        "# 커널 PCA\n",
        "- 비선형으로 차원 축소"
      ],
      "metadata": {
        "id": "x57eFxKSFNcI"
      }
    },
    {
      "cell_type": "code",
      "source": [
        "# 라이브러리 불러오기\n",
        "from sklearn.decomposition import KernelPCA"
      ],
      "metadata": {
        "id": "U_zUQvhtFVlI"
      },
      "execution_count": null,
      "outputs": []
    },
    {
      "cell_type": "code",
      "source": [
        "# 데이터 복사\n",
        "df = data.copy()"
      ],
      "metadata": {
        "id": "cjZMU3OZLAS2"
      },
      "execution_count": null,
      "outputs": []
    },
    {
      "cell_type": "code",
      "source": [
        "# 커널 PCA\n",
        "pac = KernelPCA(n_components=2)"
      ],
      "metadata": {
        "id": "bLhwJ-uHLFDd"
      },
      "execution_count": null,
      "outputs": []
    },
    {
      "cell_type": "code",
      "source": [
        "# 커널 PCA 변환\n",
        "df = pac.fit_transform(df) "
      ],
      "metadata": {
        "id": "MH3xaWTuLVD6"
      },
      "execution_count": null,
      "outputs": []
    },
    {
      "cell_type": "code",
      "source": [
        "# 시각화\n",
        "df = pd.DataFrame(df)\n",
        "plt.scatter(df.iloc[:,0],df.iloc[:,1], c=dataset.target)"
      ],
      "metadata": {
        "id": "y6K9-kGnLZAH"
      },
      "execution_count": null,
      "outputs": []
    },
    {
      "cell_type": "markdown",
      "source": [
        "#SVD(Singular Value Decomposition) 특이값 분해\n",
        "- 행렬을 특정한 구조로 분해하는 방식 \n",
        "- 신호처리와 통계학 등의 분야에서 자주 사용됨 "
      ],
      "metadata": {
        "id": "Qp__TbBzLdVS"
      }
    },
    {
      "cell_type": "code",
      "source": [
        "# 라이브러리 불러오기\n",
        "from sklearn.decomposition import TruncatedSVD"
      ],
      "metadata": {
        "id": "g7BaK4fbLvSn"
      },
      "execution_count": null,
      "outputs": []
    },
    {
      "cell_type": "code",
      "source": [
        "# SVD 적용\n",
        "df = data.copy()\n",
        "pca = TruncatedSVD(n_components=2)\n",
        "df = pca.fit_transform(df)"
      ],
      "metadata": {
        "id": "QYt5LacGM72q"
      },
      "execution_count": null,
      "outputs": []
    },
    {
      "cell_type": "code",
      "source": [
        "# 시각화\n",
        "df = pd.DataFrame(df)\n",
        "plt.scatter(df.iloc[:,0],df.iloc[:,1], c=dataset.target)"
      ],
      "metadata": {
        "id": "4tbb3kjrNIfX"
      },
      "execution_count": null,
      "outputs": []
    },
    {
      "cell_type": "markdown",
      "source": [
        "# 군집(Clustering)\n",
        "- 군집분석은 유사성이 높은 대상의 집단을 분류하는 분석 방법\n",
        "- 계층적 군집분석과 비계층적 군집분석으로 구분함\n",
        "  - 전통적인 계층적 군집분석은 군집의 개수가 나중에 선정함\n",
        "  - 비계층적 군집분석인 K-means는 군집의 수를 가장 먼저 선정함\n",
        "  - K-mean 군집분석은 초기 중심 값은 임의로 선정하며, 중심 값이 이동함\n",
        "- 군집분석의 평가지표\n",
        " - Silhouette(실루엣),Dunn Index 등 활용"
      ],
      "metadata": {
        "id": "qmz1weBVNVDn"
      }
    },
    {
      "cell_type": "markdown",
      "source": [
        "1. 비계층적 군집분석\n",
        " - 대표적인 방법 K-mean\n",
        " - K- 평균군집(centroid), 임의의 지점 K개를 선택해 해당 중심에서 가까운 데이터를 군집화 하는 기법\n",
        " - n_clusters 하이퍼파라미터 반드시 설정"
      ],
      "metadata": {
        "id": "EFw-QH49ZjkD"
      }
    },
    {
      "cell_type": "code",
      "source": [
        "#  K means 라이브러리\n",
        "import pandas as pd\n",
        "from sklearn.cluster import KMeans"
      ],
      "metadata": {
        "id": "rD8AlgVcP0Bi"
      },
      "execution_count": null,
      "outputs": []
    },
    {
      "cell_type": "code",
      "source": [
        "# 데이터 불러오기\n",
        "from sklearn.datasets import load_wine\n",
        "dataset = load_wine()\n",
        "data = pd.DataFrame(dataset.data, columns=dataset.feature_names)\n",
        "df = data.copy()"
      ],
      "metadata": {
        "id": "k-j4by4BatLK"
      },
      "execution_count": null,
      "outputs": []
    },
    {
      "cell_type": "code",
      "source": [
        "# KMeans 선언 및 학습\n",
        "kmeans = KMeans(n_clusters=3, n_init=10)\n",
        "kmeans.fit(df)"
      ],
      "metadata": {
        "id": "KeuXKkGtcI8k"
      },
      "execution_count": null,
      "outputs": []
    },
    {
      "cell_type": "code",
      "source": [
        "# KMeans 에측\n",
        "pred = kmeans.predict(df)"
      ],
      "metadata": {
        "id": "c4zfzayVcVQ8"
      },
      "execution_count": null,
      "outputs": []
    },
    {
      "cell_type": "code",
      "source": [
        "# 실제값과 예측값 비교\n",
        "df['target'] = dataset.target\n",
        "df['pred'] = pred\n",
        "df"
      ],
      "metadata": {
        "id": "Q43wv3Tgc1U4"
      },
      "execution_count": null,
      "outputs": []
    },
    {
      "cell_type": "markdown",
      "source": [
        "# PCA -> 군집 -> 시각화"
      ],
      "metadata": {
        "id": "cbs8DEEmfMJI"
      }
    },
    {
      "cell_type": "code",
      "source": [
        "# PCA\n",
        "df=data.copy()\n",
        "pca = PCA(n_components=2)\n",
        "df = pca.fit_transform(df)\n",
        "df = pd.DataFrame(df)\n",
        "df.head()"
      ],
      "metadata": {
        "id": "SgvLP5SifCOd"
      },
      "execution_count": null,
      "outputs": []
    },
    {
      "cell_type": "code",
      "source": [
        "# Kmeans\n",
        "kmans = KMeans(n_clusters=3)\n",
        "kmeans.fit(df)\n",
        "pred = kmeans.predict(df)\n",
        "df['kmeans']=pred\n",
        "df"
      ],
      "metadata": {
        "id": "Gj4bpjy4fekb"
      },
      "execution_count": null,
      "outputs": []
    },
    {
      "cell_type": "code",
      "source": [
        "# 각 군집의 중심점\n",
        "centers = kmeans.cluster_centers_"
      ],
      "metadata": {
        "id": "wmdezJHxfeh8"
      },
      "execution_count": null,
      "outputs": []
    },
    {
      "cell_type": "code",
      "source": [
        "#시각화\n",
        "import seaborn as sns\n",
        "plt.figure(figsize=(12,6))\n",
        "sns.scatterplot(x=df.iloc[:,0], y=df.iloc[:,1], hue=df['kmeans'])\n",
        "plt.scatter(centers[:,0],centers[:,1])"
      ],
      "metadata": {
        "id": "idao_hqifefB"
      },
      "execution_count": null,
      "outputs": []
    },
    {
      "cell_type": "markdown",
      "source": [
        "#클러스터 개수 찾는 방법 (엘보우 방법 , elbow method)"
      ],
      "metadata": {
        "id": "1-8w54Uwsxvl"
      }
    },
    {
      "cell_type": "code",
      "source": [
        "from sklearn.datasets import load_wine\n",
        "dataset = load_wine()\n",
        "data = pd.DataFrame(dataset.data, columns=dataset.feature_names)\n",
        "df = data.copy()"
      ],
      "metadata": {
        "id": "D3jjkjbUupyy"
      },
      "execution_count": null,
      "outputs": []
    },
    {
      "cell_type": "code",
      "source": [
        "# 군집 수 찾기\n",
        "inertia = []\n",
        "for i in range(1,10):\n",
        "  kmeans = KMeans(n_clusters = i , random_state=2022)\n",
        "  kmeans.fit(df)\n",
        "  inertia.append(kmeans.inertia_)\n",
        "\n",
        "plt.plot(range(1,10),inertia)  #완만할때쯤 선택 하면된다"
      ],
      "metadata": {
        "id": "NTRikAADhOLb"
      },
      "execution_count": null,
      "outputs": []
    },
    {
      "cell_type": "markdown",
      "source": [
        "#계층적 군집분석\n",
        "- k-means 와 달리 군집 개수를 사전에 설정 하지 않음\n",
        "- 덴드로그램\n"
      ],
      "metadata": {
        "id": "kv6No9i6s89c"
      }
    },
    {
      "cell_type": "code",
      "source": [
        "# epsemfhrmfoa\n",
        "from scipy.cluster.hierarchy import dendrogram, ward"
      ],
      "metadata": {
        "id": "49gxgFL5s8bb"
      },
      "execution_count": null,
      "outputs": []
    },
    {
      "cell_type": "code",
      "source": [
        "# PCA\n",
        "df = data.copy()\n",
        "pca = PCA(n_components=2)\n",
        "df = pca.fit_transform(df)\n",
        "df = pd.DataFrame(df)"
      ],
      "metadata": {
        "id": "ExMHgZays8ZK"
      },
      "execution_count": null,
      "outputs": []
    },
    {
      "cell_type": "code",
      "source": [
        "#샘플링\n",
        "kdata = df[:3].copy()\n",
        "kdata = kdata.append(df[70:73])\n",
        "kdata = kdata.append(df[160:163])\n",
        "kdata"
      ],
      "metadata": {
        "id": "GEPMC3D0s8WA"
      },
      "execution_count": null,
      "outputs": []
    },
    {
      "cell_type": "code",
      "source": [
        "dataset.target"
      ],
      "metadata": {
        "id": "l_ExdQRuwKUc"
      },
      "execution_count": null,
      "outputs": []
    },
    {
      "cell_type": "code",
      "source": [
        "dataset.target[:3]"
      ],
      "metadata": {
        "id": "95Q5-Qs5s8TF"
      },
      "execution_count": null,
      "outputs": []
    },
    {
      "cell_type": "code",
      "source": [
        "dataset.target[70:73]"
      ],
      "metadata": {
        "id": "ecaZDqWswC6R"
      },
      "execution_count": null,
      "outputs": []
    },
    {
      "cell_type": "code",
      "source": [
        "dataset.target[160:163]"
      ],
      "metadata": {
        "id": "yy9szVNtwCtP"
      },
      "execution_count": null,
      "outputs": []
    },
    {
      "cell_type": "code",
      "source": [
        "#epsemfhrmfoa\n",
        "linkage = ward(kdata)\n",
        "dendrogram(linkage)"
      ],
      "metadata": {
        "id": "ReBoNesYxRnV"
      },
      "execution_count": null,
      "outputs": []
    }
  ]
}